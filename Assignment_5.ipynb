{
  "nbformat": 4,
  "nbformat_minor": 0,
  "metadata": {
    "colab": {
      "name": "Assignment.5",
      "provenance": []
    },
    "kernelspec": {
      "name": "python3",
      "display_name": "Python 3"
    },
    "language_info": {
      "name": "python"
    }
  },
  "cells": [
    {
      "cell_type": "code",
      "execution_count": 1,
      "metadata": {
        "id": "5sOYCZlKneHF"
      },
      "outputs": [],
      "source": [
        "import numpy as np\n",
        "import pandas as pd\n",
        "import matplotlib.pyplot as plt\n",
        "import seaborn as sns\n",
        "import math\n",
        "sns.set(color_codes=True)"
      ]
    },
    {
      "cell_type": "code",
      "source": [
        "data=pd.read_csv(\"Housing.csv\",index_col=0)\n",
        "data"
      ],
      "metadata": {
        "colab": {
          "base_uri": "https://localhost:8080/",
          "height": 866
        },
        "id": "u4NuWi4CoOMO",
        "outputId": "ffe50b8a-fc57-4510-b29e-75a2f4f12501"
      },
      "execution_count": 3,
      "outputs": [
        {
          "output_type": "execute_result",
          "data": {
            "text/plain": [
              "                     LandUse                     PropertyAddress  \\\n",
              "UniqueID                                                           \n",
              "2045           SINGLE FAMILY  1808  FOX CHASE DR, GOODLETTSVILLE   \n",
              "16918          SINGLE FAMILY  1832  FOX CHASE DR, GOODLETTSVILLE   \n",
              "54582          SINGLE FAMILY  1864 FOX CHASE  DR, GOODLETTSVILLE   \n",
              "43070          SINGLE FAMILY  1853  FOX CHASE DR, GOODLETTSVILLE   \n",
              "22714          SINGLE FAMILY  1829  FOX CHASE DR, GOODLETTSVILLE   \n",
              "...                      ...                                 ...   \n",
              "18197      RESIDENTIAL CONDO    9234  SAWYER BROWN RD, NASHVILLE   \n",
              "16722      RESIDENTIAL CONDO    9309  SAWYER BROWN RD, NASHVILLE   \n",
              "14303          SINGLE FAMILY      738  HARPETH PKWY W, NASHVILLE   \n",
              "40443                 DUPLEX      730  HARPETH PKWY W, NASHVILLE   \n",
              "52966          SINGLE FAMILY      722 HARPETH  PKWY W, NASHVILLE   \n",
              "\n",
              "                     SaleDate SalePrice  Acre  LandValue  BuildingValue  \\\n",
              "UniqueID                                                                  \n",
              "2045            April 9, 2013    240000  2.30    50000.0       168200.0   \n",
              "16918           June 10, 2014    366000  3.50    50000.0       264100.0   \n",
              "54582      September 26, 2016    435000  2.90    50000.0       216200.0   \n",
              "43070        January 29, 2016    255000  2.60    50000.0       147300.0   \n",
              "22714        October 10, 2014    278000  2.00    50000.0       152300.0   \n",
              "...                       ...       ...   ...        ...            ...   \n",
              "18197           July 30, 2014    210000   NaN        NaN            NaN   \n",
              "16722            June 6, 2014    210000   NaN        NaN            NaN   \n",
              "14303          April 16, 2014    195000  0.42    45000.0        99600.0   \n",
              "40443       November 30, 2015    215000  0.68    54000.0       121500.0   \n",
              "52966          August 8, 2016    193000  0.45    45000.0       115800.0   \n",
              "\n",
              "           TotalValue  YearBuilt  Bedrooms  FullBath  HalfBath  \n",
              "UniqueID                                                        \n",
              "2045         235700.0     1986.0       3.0       3.0       0.0  \n",
              "16918        319000.0     1998.0       3.0       3.0       2.0  \n",
              "54582        298000.0     1987.0       4.0       3.0       0.0  \n",
              "43070        197300.0     1985.0       3.0       3.0       0.0  \n",
              "22714        202300.0     1984.0       4.0       3.0       0.0  \n",
              "...               ...        ...       ...       ...       ...  \n",
              "18197             NaN        NaN       NaN       NaN       NaN  \n",
              "16722             NaN        NaN       NaN       NaN       NaN  \n",
              "14303        144600.0     1967.0       3.0       2.0       0.0  \n",
              "40443        175500.0     1970.0       4.0       2.0       0.0  \n",
              "52966        160800.0        NaN       NaN       NaN       NaN  \n",
              "\n",
              "[41914 rows x 12 columns]"
            ],
            "text/html": [
              "\n",
              "  <div id=\"df-84a2ff45-1710-4f3c-bb9a-cc65485782f3\">\n",
              "    <div class=\"colab-df-container\">\n",
              "      <div>\n",
              "<style scoped>\n",
              "    .dataframe tbody tr th:only-of-type {\n",
              "        vertical-align: middle;\n",
              "    }\n",
              "\n",
              "    .dataframe tbody tr th {\n",
              "        vertical-align: top;\n",
              "    }\n",
              "\n",
              "    .dataframe thead th {\n",
              "        text-align: right;\n",
              "    }\n",
              "</style>\n",
              "<table border=\"1\" class=\"dataframe\">\n",
              "  <thead>\n",
              "    <tr style=\"text-align: right;\">\n",
              "      <th></th>\n",
              "      <th>LandUse</th>\n",
              "      <th>PropertyAddress</th>\n",
              "      <th>SaleDate</th>\n",
              "      <th>SalePrice</th>\n",
              "      <th>Acre</th>\n",
              "      <th>LandValue</th>\n",
              "      <th>BuildingValue</th>\n",
              "      <th>TotalValue</th>\n",
              "      <th>YearBuilt</th>\n",
              "      <th>Bedrooms</th>\n",
              "      <th>FullBath</th>\n",
              "      <th>HalfBath</th>\n",
              "    </tr>\n",
              "    <tr>\n",
              "      <th>UniqueID</th>\n",
              "      <th></th>\n",
              "      <th></th>\n",
              "      <th></th>\n",
              "      <th></th>\n",
              "      <th></th>\n",
              "      <th></th>\n",
              "      <th></th>\n",
              "      <th></th>\n",
              "      <th></th>\n",
              "      <th></th>\n",
              "      <th></th>\n",
              "      <th></th>\n",
              "    </tr>\n",
              "  </thead>\n",
              "  <tbody>\n",
              "    <tr>\n",
              "      <th>2045</th>\n",
              "      <td>SINGLE FAMILY</td>\n",
              "      <td>1808  FOX CHASE DR, GOODLETTSVILLE</td>\n",
              "      <td>April 9, 2013</td>\n",
              "      <td>240000</td>\n",
              "      <td>2.30</td>\n",
              "      <td>50000.0</td>\n",
              "      <td>168200.0</td>\n",
              "      <td>235700.0</td>\n",
              "      <td>1986.0</td>\n",
              "      <td>3.0</td>\n",
              "      <td>3.0</td>\n",
              "      <td>0.0</td>\n",
              "    </tr>\n",
              "    <tr>\n",
              "      <th>16918</th>\n",
              "      <td>SINGLE FAMILY</td>\n",
              "      <td>1832  FOX CHASE DR, GOODLETTSVILLE</td>\n",
              "      <td>June 10, 2014</td>\n",
              "      <td>366000</td>\n",
              "      <td>3.50</td>\n",
              "      <td>50000.0</td>\n",
              "      <td>264100.0</td>\n",
              "      <td>319000.0</td>\n",
              "      <td>1998.0</td>\n",
              "      <td>3.0</td>\n",
              "      <td>3.0</td>\n",
              "      <td>2.0</td>\n",
              "    </tr>\n",
              "    <tr>\n",
              "      <th>54582</th>\n",
              "      <td>SINGLE FAMILY</td>\n",
              "      <td>1864 FOX CHASE  DR, GOODLETTSVILLE</td>\n",
              "      <td>September 26, 2016</td>\n",
              "      <td>435000</td>\n",
              "      <td>2.90</td>\n",
              "      <td>50000.0</td>\n",
              "      <td>216200.0</td>\n",
              "      <td>298000.0</td>\n",
              "      <td>1987.0</td>\n",
              "      <td>4.0</td>\n",
              "      <td>3.0</td>\n",
              "      <td>0.0</td>\n",
              "    </tr>\n",
              "    <tr>\n",
              "      <th>43070</th>\n",
              "      <td>SINGLE FAMILY</td>\n",
              "      <td>1853  FOX CHASE DR, GOODLETTSVILLE</td>\n",
              "      <td>January 29, 2016</td>\n",
              "      <td>255000</td>\n",
              "      <td>2.60</td>\n",
              "      <td>50000.0</td>\n",
              "      <td>147300.0</td>\n",
              "      <td>197300.0</td>\n",
              "      <td>1985.0</td>\n",
              "      <td>3.0</td>\n",
              "      <td>3.0</td>\n",
              "      <td>0.0</td>\n",
              "    </tr>\n",
              "    <tr>\n",
              "      <th>22714</th>\n",
              "      <td>SINGLE FAMILY</td>\n",
              "      <td>1829  FOX CHASE DR, GOODLETTSVILLE</td>\n",
              "      <td>October 10, 2014</td>\n",
              "      <td>278000</td>\n",
              "      <td>2.00</td>\n",
              "      <td>50000.0</td>\n",
              "      <td>152300.0</td>\n",
              "      <td>202300.0</td>\n",
              "      <td>1984.0</td>\n",
              "      <td>4.0</td>\n",
              "      <td>3.0</td>\n",
              "      <td>0.0</td>\n",
              "    </tr>\n",
              "    <tr>\n",
              "      <th>...</th>\n",
              "      <td>...</td>\n",
              "      <td>...</td>\n",
              "      <td>...</td>\n",
              "      <td>...</td>\n",
              "      <td>...</td>\n",
              "      <td>...</td>\n",
              "      <td>...</td>\n",
              "      <td>...</td>\n",
              "      <td>...</td>\n",
              "      <td>...</td>\n",
              "      <td>...</td>\n",
              "      <td>...</td>\n",
              "    </tr>\n",
              "    <tr>\n",
              "      <th>18197</th>\n",
              "      <td>RESIDENTIAL CONDO</td>\n",
              "      <td>9234  SAWYER BROWN RD, NASHVILLE</td>\n",
              "      <td>July 30, 2014</td>\n",
              "      <td>210000</td>\n",
              "      <td>NaN</td>\n",
              "      <td>NaN</td>\n",
              "      <td>NaN</td>\n",
              "      <td>NaN</td>\n",
              "      <td>NaN</td>\n",
              "      <td>NaN</td>\n",
              "      <td>NaN</td>\n",
              "      <td>NaN</td>\n",
              "    </tr>\n",
              "    <tr>\n",
              "      <th>16722</th>\n",
              "      <td>RESIDENTIAL CONDO</td>\n",
              "      <td>9309  SAWYER BROWN RD, NASHVILLE</td>\n",
              "      <td>June 6, 2014</td>\n",
              "      <td>210000</td>\n",
              "      <td>NaN</td>\n",
              "      <td>NaN</td>\n",
              "      <td>NaN</td>\n",
              "      <td>NaN</td>\n",
              "      <td>NaN</td>\n",
              "      <td>NaN</td>\n",
              "      <td>NaN</td>\n",
              "      <td>NaN</td>\n",
              "    </tr>\n",
              "    <tr>\n",
              "      <th>14303</th>\n",
              "      <td>SINGLE FAMILY</td>\n",
              "      <td>738  HARPETH PKWY W, NASHVILLE</td>\n",
              "      <td>April 16, 2014</td>\n",
              "      <td>195000</td>\n",
              "      <td>0.42</td>\n",
              "      <td>45000.0</td>\n",
              "      <td>99600.0</td>\n",
              "      <td>144600.0</td>\n",
              "      <td>1967.0</td>\n",
              "      <td>3.0</td>\n",
              "      <td>2.0</td>\n",
              "      <td>0.0</td>\n",
              "    </tr>\n",
              "    <tr>\n",
              "      <th>40443</th>\n",
              "      <td>DUPLEX</td>\n",
              "      <td>730  HARPETH PKWY W, NASHVILLE</td>\n",
              "      <td>November 30, 2015</td>\n",
              "      <td>215000</td>\n",
              "      <td>0.68</td>\n",
              "      <td>54000.0</td>\n",
              "      <td>121500.0</td>\n",
              "      <td>175500.0</td>\n",
              "      <td>1970.0</td>\n",
              "      <td>4.0</td>\n",
              "      <td>2.0</td>\n",
              "      <td>0.0</td>\n",
              "    </tr>\n",
              "    <tr>\n",
              "      <th>52966</th>\n",
              "      <td>SINGLE FAMILY</td>\n",
              "      <td>722 HARPETH  PKWY W, NASHVILLE</td>\n",
              "      <td>August 8, 2016</td>\n",
              "      <td>193000</td>\n",
              "      <td>0.45</td>\n",
              "      <td>45000.0</td>\n",
              "      <td>115800.0</td>\n",
              "      <td>160800.0</td>\n",
              "      <td>NaN</td>\n",
              "      <td>NaN</td>\n",
              "      <td>NaN</td>\n",
              "      <td>NaN</td>\n",
              "    </tr>\n",
              "  </tbody>\n",
              "</table>\n",
              "<p>41914 rows × 12 columns</p>\n",
              "</div>\n",
              "      <button class=\"colab-df-convert\" onclick=\"convertToInteractive('df-84a2ff45-1710-4f3c-bb9a-cc65485782f3')\"\n",
              "              title=\"Convert this dataframe to an interactive table.\"\n",
              "              style=\"display:none;\">\n",
              "        \n",
              "  <svg xmlns=\"http://www.w3.org/2000/svg\" height=\"24px\"viewBox=\"0 0 24 24\"\n",
              "       width=\"24px\">\n",
              "    <path d=\"M0 0h24v24H0V0z\" fill=\"none\"/>\n",
              "    <path d=\"M18.56 5.44l.94 2.06.94-2.06 2.06-.94-2.06-.94-.94-2.06-.94 2.06-2.06.94zm-11 1L8.5 8.5l.94-2.06 2.06-.94-2.06-.94L8.5 2.5l-.94 2.06-2.06.94zm10 10l.94 2.06.94-2.06 2.06-.94-2.06-.94-.94-2.06-.94 2.06-2.06.94z\"/><path d=\"M17.41 7.96l-1.37-1.37c-.4-.4-.92-.59-1.43-.59-.52 0-1.04.2-1.43.59L10.3 9.45l-7.72 7.72c-.78.78-.78 2.05 0 2.83L4 21.41c.39.39.9.59 1.41.59.51 0 1.02-.2 1.41-.59l7.78-7.78 2.81-2.81c.8-.78.8-2.07 0-2.86zM5.41 20L4 18.59l7.72-7.72 1.47 1.35L5.41 20z\"/>\n",
              "  </svg>\n",
              "      </button>\n",
              "      \n",
              "  <style>\n",
              "    .colab-df-container {\n",
              "      display:flex;\n",
              "      flex-wrap:wrap;\n",
              "      gap: 12px;\n",
              "    }\n",
              "\n",
              "    .colab-df-convert {\n",
              "      background-color: #E8F0FE;\n",
              "      border: none;\n",
              "      border-radius: 50%;\n",
              "      cursor: pointer;\n",
              "      display: none;\n",
              "      fill: #1967D2;\n",
              "      height: 32px;\n",
              "      padding: 0 0 0 0;\n",
              "      width: 32px;\n",
              "    }\n",
              "\n",
              "    .colab-df-convert:hover {\n",
              "      background-color: #E2EBFA;\n",
              "      box-shadow: 0px 1px 2px rgba(60, 64, 67, 0.3), 0px 1px 3px 1px rgba(60, 64, 67, 0.15);\n",
              "      fill: #174EA6;\n",
              "    }\n",
              "\n",
              "    [theme=dark] .colab-df-convert {\n",
              "      background-color: #3B4455;\n",
              "      fill: #D2E3FC;\n",
              "    }\n",
              "\n",
              "    [theme=dark] .colab-df-convert:hover {\n",
              "      background-color: #434B5C;\n",
              "      box-shadow: 0px 1px 3px 1px rgba(0, 0, 0, 0.15);\n",
              "      filter: drop-shadow(0px 1px 2px rgba(0, 0, 0, 0.3));\n",
              "      fill: #FFFFFF;\n",
              "    }\n",
              "  </style>\n",
              "\n",
              "      <script>\n",
              "        const buttonEl =\n",
              "          document.querySelector('#df-84a2ff45-1710-4f3c-bb9a-cc65485782f3 button.colab-df-convert');\n",
              "        buttonEl.style.display =\n",
              "          google.colab.kernel.accessAllowed ? 'block' : 'none';\n",
              "\n",
              "        async function convertToInteractive(key) {\n",
              "          const element = document.querySelector('#df-84a2ff45-1710-4f3c-bb9a-cc65485782f3');\n",
              "          const dataTable =\n",
              "            await google.colab.kernel.invokeFunction('convertToInteractive',\n",
              "                                                     [key], {});\n",
              "          if (!dataTable) return;\n",
              "\n",
              "          const docLinkHtml = 'Like what you see? Visit the ' +\n",
              "            '<a target=\"_blank\" href=https://colab.research.google.com/notebooks/data_table.ipynb>data table notebook</a>'\n",
              "            + ' to learn more about interactive tables.';\n",
              "          element.innerHTML = '';\n",
              "          dataTable['output_type'] = 'display_data';\n",
              "          await google.colab.output.renderOutput(dataTable, element);\n",
              "          const docLink = document.createElement('div');\n",
              "          docLink.innerHTML = docLinkHtml;\n",
              "          element.appendChild(docLink);\n",
              "        }\n",
              "      </script>\n",
              "    </div>\n",
              "  </div>\n",
              "  "
            ]
          },
          "metadata": {},
          "execution_count": 3
        }
      ]
    },
    {
      "cell_type": "markdown",
      "source": [
        ""
      ],
      "metadata": {
        "id": "9GcZHK82otaG"
      }
    },
    {
      "cell_type": "code",
      "source": [
        "data.isnull().sum()"
      ],
      "metadata": {
        "colab": {
          "base_uri": "https://localhost:8080/"
        },
        "id": "PEPM_JCuot0S",
        "outputId": "cbefe36f-8bbd-4eeb-8c21-a5bb8d8a619a"
      },
      "execution_count": 4,
      "outputs": [
        {
          "output_type": "execute_result",
          "data": {
            "text/plain": [
              "LandUse                0\n",
              "PropertyAddress       29\n",
              "SaleDate               0\n",
              "SalePrice              0\n",
              "Acre               19897\n",
              "LandValue          19897\n",
              "BuildingValue      19897\n",
              "TotalValue         19897\n",
              "YearBuilt          21607\n",
              "Bedrooms           21620\n",
              "FullBath           21529\n",
              "HalfBath           21658\n",
              "dtype: int64"
            ]
          },
          "metadata": {},
          "execution_count": 4
        }
      ]
    },
    {
      "cell_type": "markdown",
      "source": [
        "1. Replace the missing values with appropriate approximations\n",
        "\n",
        "Here we are filling all of the null values, with the mean value of their corresponding columns."
      ],
      "metadata": {
        "id": "MYjA0jgQo6Xe"
      }
    },
    {
      "cell_type": "code",
      "source": [
        "data['Acre']=data[\"Acre\"].fillna(np.mean(data[\"Acre\"]))\n",
        "data['LandValue']=data[\"LandValue\"].fillna(np.mean(data[\"LandValue\"]))\n",
        "data['BuildingValue']=data[\"BuildingValue\"].fillna(np.mean(data[\"BuildingValue\"]))\n",
        "data['TotalValue']=data[\"TotalValue\"].fillna(np.mean(data[\"TotalValue\"]))\n",
        "data['YearBuilt']=data[\"YearBuilt\"].fillna(np.mean(data[\"YearBuilt\"]))\n",
        "data['Bedrooms']=data[\"Bedrooms\"].fillna(np.mean(data[\"Bedrooms\"]))\n",
        "data['FullBath']=data[\"FullBath\"].fillna(np.mean(data[\"FullBath\"]))\n",
        "data['HalfBath']=data[\"HalfBath\"].fillna(np.mean(data[\"HalfBath\"]))\n",
        "data"
      ],
      "metadata": {
        "colab": {
          "base_uri": "https://localhost:8080/",
          "height": 866
        },
        "id": "BkfLU5I6o_74",
        "outputId": "c5ab4e2f-1306-4ab3-d5c1-76fbfe3810f3"
      },
      "execution_count": 5,
      "outputs": [
        {
          "output_type": "execute_result",
          "data": {
            "text/plain": [
              "                     LandUse                     PropertyAddress  \\\n",
              "UniqueID                                                           \n",
              "2045           SINGLE FAMILY  1808  FOX CHASE DR, GOODLETTSVILLE   \n",
              "16918          SINGLE FAMILY  1832  FOX CHASE DR, GOODLETTSVILLE   \n",
              "54582          SINGLE FAMILY  1864 FOX CHASE  DR, GOODLETTSVILLE   \n",
              "43070          SINGLE FAMILY  1853  FOX CHASE DR, GOODLETTSVILLE   \n",
              "22714          SINGLE FAMILY  1829  FOX CHASE DR, GOODLETTSVILLE   \n",
              "...                      ...                                 ...   \n",
              "18197      RESIDENTIAL CONDO    9234  SAWYER BROWN RD, NASHVILLE   \n",
              "16722      RESIDENTIAL CONDO    9309  SAWYER BROWN RD, NASHVILLE   \n",
              "14303          SINGLE FAMILY      738  HARPETH PKWY W, NASHVILLE   \n",
              "40443                 DUPLEX      730  HARPETH PKWY W, NASHVILLE   \n",
              "52966          SINGLE FAMILY      722 HARPETH  PKWY W, NASHVILLE   \n",
              "\n",
              "                     SaleDate SalePrice      Acre     LandValue  \\\n",
              "UniqueID                                                          \n",
              "2045            April 9, 2013    240000  2.300000  50000.000000   \n",
              "16918           June 10, 2014    366000  3.500000  50000.000000   \n",
              "54582      September 26, 2016    435000  2.900000  50000.000000   \n",
              "43070        January 29, 2016    255000  2.600000  50000.000000   \n",
              "22714        October 10, 2014    278000  2.000000  50000.000000   \n",
              "...                       ...       ...       ...           ...   \n",
              "18197           July 30, 2014    210000  0.449233  67566.948358   \n",
              "16722            June 6, 2014    210000  0.449233  67566.948358   \n",
              "14303          April 16, 2014    195000  0.420000  45000.000000   \n",
              "40443       November 30, 2015    215000  0.680000  54000.000000   \n",
              "52966          August 8, 2016    193000  0.450000  45000.000000   \n",
              "\n",
              "           BuildingValue     TotalValue    YearBuilt  Bedrooms  FullBath  \\\n",
              "UniqueID                                                                   \n",
              "2045       168200.000000  235700.000000  1986.000000  3.000000  3.000000   \n",
              "16918      264100.000000  319000.000000  1998.000000  3.000000  3.000000   \n",
              "54582      216200.000000  298000.000000  1987.000000  4.000000  3.000000   \n",
              "43070      147300.000000  197300.000000  1985.000000  3.000000  3.000000   \n",
              "22714      152300.000000  202300.000000  1984.000000  4.000000  3.000000   \n",
              "...                  ...            ...          ...       ...       ...   \n",
              "18197      159112.830994  229310.964346  1961.806766  3.076771  1.865587   \n",
              "16722      159112.830994  229310.964346  1961.806766  3.076771  1.865587   \n",
              "14303       99600.000000  144600.000000  1967.000000  3.000000  2.000000   \n",
              "40443      121500.000000  175500.000000  1970.000000  4.000000  2.000000   \n",
              "52966      115800.000000  160800.000000  1961.806766  3.076771  1.865587   \n",
              "\n",
              "           HalfBath  \n",
              "UniqueID             \n",
              "2045       0.000000  \n",
              "16918      2.000000  \n",
              "54582      0.000000  \n",
              "43070      0.000000  \n",
              "22714      0.000000  \n",
              "...             ...  \n",
              "18197      0.273795  \n",
              "16722      0.273795  \n",
              "14303      0.000000  \n",
              "40443      0.000000  \n",
              "52966      0.273795  \n",
              "\n",
              "[41914 rows x 12 columns]"
            ],
            "text/html": [
              "\n",
              "  <div id=\"df-9c3bbe33-39e8-4f1c-8be7-aff8289271d1\">\n",
              "    <div class=\"colab-df-container\">\n",
              "      <div>\n",
              "<style scoped>\n",
              "    .dataframe tbody tr th:only-of-type {\n",
              "        vertical-align: middle;\n",
              "    }\n",
              "\n",
              "    .dataframe tbody tr th {\n",
              "        vertical-align: top;\n",
              "    }\n",
              "\n",
              "    .dataframe thead th {\n",
              "        text-align: right;\n",
              "    }\n",
              "</style>\n",
              "<table border=\"1\" class=\"dataframe\">\n",
              "  <thead>\n",
              "    <tr style=\"text-align: right;\">\n",
              "      <th></th>\n",
              "      <th>LandUse</th>\n",
              "      <th>PropertyAddress</th>\n",
              "      <th>SaleDate</th>\n",
              "      <th>SalePrice</th>\n",
              "      <th>Acre</th>\n",
              "      <th>LandValue</th>\n",
              "      <th>BuildingValue</th>\n",
              "      <th>TotalValue</th>\n",
              "      <th>YearBuilt</th>\n",
              "      <th>Bedrooms</th>\n",
              "      <th>FullBath</th>\n",
              "      <th>HalfBath</th>\n",
              "    </tr>\n",
              "    <tr>\n",
              "      <th>UniqueID</th>\n",
              "      <th></th>\n",
              "      <th></th>\n",
              "      <th></th>\n",
              "      <th></th>\n",
              "      <th></th>\n",
              "      <th></th>\n",
              "      <th></th>\n",
              "      <th></th>\n",
              "      <th></th>\n",
              "      <th></th>\n",
              "      <th></th>\n",
              "      <th></th>\n",
              "    </tr>\n",
              "  </thead>\n",
              "  <tbody>\n",
              "    <tr>\n",
              "      <th>2045</th>\n",
              "      <td>SINGLE FAMILY</td>\n",
              "      <td>1808  FOX CHASE DR, GOODLETTSVILLE</td>\n",
              "      <td>April 9, 2013</td>\n",
              "      <td>240000</td>\n",
              "      <td>2.300000</td>\n",
              "      <td>50000.000000</td>\n",
              "      <td>168200.000000</td>\n",
              "      <td>235700.000000</td>\n",
              "      <td>1986.000000</td>\n",
              "      <td>3.000000</td>\n",
              "      <td>3.000000</td>\n",
              "      <td>0.000000</td>\n",
              "    </tr>\n",
              "    <tr>\n",
              "      <th>16918</th>\n",
              "      <td>SINGLE FAMILY</td>\n",
              "      <td>1832  FOX CHASE DR, GOODLETTSVILLE</td>\n",
              "      <td>June 10, 2014</td>\n",
              "      <td>366000</td>\n",
              "      <td>3.500000</td>\n",
              "      <td>50000.000000</td>\n",
              "      <td>264100.000000</td>\n",
              "      <td>319000.000000</td>\n",
              "      <td>1998.000000</td>\n",
              "      <td>3.000000</td>\n",
              "      <td>3.000000</td>\n",
              "      <td>2.000000</td>\n",
              "    </tr>\n",
              "    <tr>\n",
              "      <th>54582</th>\n",
              "      <td>SINGLE FAMILY</td>\n",
              "      <td>1864 FOX CHASE  DR, GOODLETTSVILLE</td>\n",
              "      <td>September 26, 2016</td>\n",
              "      <td>435000</td>\n",
              "      <td>2.900000</td>\n",
              "      <td>50000.000000</td>\n",
              "      <td>216200.000000</td>\n",
              "      <td>298000.000000</td>\n",
              "      <td>1987.000000</td>\n",
              "      <td>4.000000</td>\n",
              "      <td>3.000000</td>\n",
              "      <td>0.000000</td>\n",
              "    </tr>\n",
              "    <tr>\n",
              "      <th>43070</th>\n",
              "      <td>SINGLE FAMILY</td>\n",
              "      <td>1853  FOX CHASE DR, GOODLETTSVILLE</td>\n",
              "      <td>January 29, 2016</td>\n",
              "      <td>255000</td>\n",
              "      <td>2.600000</td>\n",
              "      <td>50000.000000</td>\n",
              "      <td>147300.000000</td>\n",
              "      <td>197300.000000</td>\n",
              "      <td>1985.000000</td>\n",
              "      <td>3.000000</td>\n",
              "      <td>3.000000</td>\n",
              "      <td>0.000000</td>\n",
              "    </tr>\n",
              "    <tr>\n",
              "      <th>22714</th>\n",
              "      <td>SINGLE FAMILY</td>\n",
              "      <td>1829  FOX CHASE DR, GOODLETTSVILLE</td>\n",
              "      <td>October 10, 2014</td>\n",
              "      <td>278000</td>\n",
              "      <td>2.000000</td>\n",
              "      <td>50000.000000</td>\n",
              "      <td>152300.000000</td>\n",
              "      <td>202300.000000</td>\n",
              "      <td>1984.000000</td>\n",
              "      <td>4.000000</td>\n",
              "      <td>3.000000</td>\n",
              "      <td>0.000000</td>\n",
              "    </tr>\n",
              "    <tr>\n",
              "      <th>...</th>\n",
              "      <td>...</td>\n",
              "      <td>...</td>\n",
              "      <td>...</td>\n",
              "      <td>...</td>\n",
              "      <td>...</td>\n",
              "      <td>...</td>\n",
              "      <td>...</td>\n",
              "      <td>...</td>\n",
              "      <td>...</td>\n",
              "      <td>...</td>\n",
              "      <td>...</td>\n",
              "      <td>...</td>\n",
              "    </tr>\n",
              "    <tr>\n",
              "      <th>18197</th>\n",
              "      <td>RESIDENTIAL CONDO</td>\n",
              "      <td>9234  SAWYER BROWN RD, NASHVILLE</td>\n",
              "      <td>July 30, 2014</td>\n",
              "      <td>210000</td>\n",
              "      <td>0.449233</td>\n",
              "      <td>67566.948358</td>\n",
              "      <td>159112.830994</td>\n",
              "      <td>229310.964346</td>\n",
              "      <td>1961.806766</td>\n",
              "      <td>3.076771</td>\n",
              "      <td>1.865587</td>\n",
              "      <td>0.273795</td>\n",
              "    </tr>\n",
              "    <tr>\n",
              "      <th>16722</th>\n",
              "      <td>RESIDENTIAL CONDO</td>\n",
              "      <td>9309  SAWYER BROWN RD, NASHVILLE</td>\n",
              "      <td>June 6, 2014</td>\n",
              "      <td>210000</td>\n",
              "      <td>0.449233</td>\n",
              "      <td>67566.948358</td>\n",
              "      <td>159112.830994</td>\n",
              "      <td>229310.964346</td>\n",
              "      <td>1961.806766</td>\n",
              "      <td>3.076771</td>\n",
              "      <td>1.865587</td>\n",
              "      <td>0.273795</td>\n",
              "    </tr>\n",
              "    <tr>\n",
              "      <th>14303</th>\n",
              "      <td>SINGLE FAMILY</td>\n",
              "      <td>738  HARPETH PKWY W, NASHVILLE</td>\n",
              "      <td>April 16, 2014</td>\n",
              "      <td>195000</td>\n",
              "      <td>0.420000</td>\n",
              "      <td>45000.000000</td>\n",
              "      <td>99600.000000</td>\n",
              "      <td>144600.000000</td>\n",
              "      <td>1967.000000</td>\n",
              "      <td>3.000000</td>\n",
              "      <td>2.000000</td>\n",
              "      <td>0.000000</td>\n",
              "    </tr>\n",
              "    <tr>\n",
              "      <th>40443</th>\n",
              "      <td>DUPLEX</td>\n",
              "      <td>730  HARPETH PKWY W, NASHVILLE</td>\n",
              "      <td>November 30, 2015</td>\n",
              "      <td>215000</td>\n",
              "      <td>0.680000</td>\n",
              "      <td>54000.000000</td>\n",
              "      <td>121500.000000</td>\n",
              "      <td>175500.000000</td>\n",
              "      <td>1970.000000</td>\n",
              "      <td>4.000000</td>\n",
              "      <td>2.000000</td>\n",
              "      <td>0.000000</td>\n",
              "    </tr>\n",
              "    <tr>\n",
              "      <th>52966</th>\n",
              "      <td>SINGLE FAMILY</td>\n",
              "      <td>722 HARPETH  PKWY W, NASHVILLE</td>\n",
              "      <td>August 8, 2016</td>\n",
              "      <td>193000</td>\n",
              "      <td>0.450000</td>\n",
              "      <td>45000.000000</td>\n",
              "      <td>115800.000000</td>\n",
              "      <td>160800.000000</td>\n",
              "      <td>1961.806766</td>\n",
              "      <td>3.076771</td>\n",
              "      <td>1.865587</td>\n",
              "      <td>0.273795</td>\n",
              "    </tr>\n",
              "  </tbody>\n",
              "</table>\n",
              "<p>41914 rows × 12 columns</p>\n",
              "</div>\n",
              "      <button class=\"colab-df-convert\" onclick=\"convertToInteractive('df-9c3bbe33-39e8-4f1c-8be7-aff8289271d1')\"\n",
              "              title=\"Convert this dataframe to an interactive table.\"\n",
              "              style=\"display:none;\">\n",
              "        \n",
              "  <svg xmlns=\"http://www.w3.org/2000/svg\" height=\"24px\"viewBox=\"0 0 24 24\"\n",
              "       width=\"24px\">\n",
              "    <path d=\"M0 0h24v24H0V0z\" fill=\"none\"/>\n",
              "    <path d=\"M18.56 5.44l.94 2.06.94-2.06 2.06-.94-2.06-.94-.94-2.06-.94 2.06-2.06.94zm-11 1L8.5 8.5l.94-2.06 2.06-.94-2.06-.94L8.5 2.5l-.94 2.06-2.06.94zm10 10l.94 2.06.94-2.06 2.06-.94-2.06-.94-.94-2.06-.94 2.06-2.06.94z\"/><path d=\"M17.41 7.96l-1.37-1.37c-.4-.4-.92-.59-1.43-.59-.52 0-1.04.2-1.43.59L10.3 9.45l-7.72 7.72c-.78.78-.78 2.05 0 2.83L4 21.41c.39.39.9.59 1.41.59.51 0 1.02-.2 1.41-.59l7.78-7.78 2.81-2.81c.8-.78.8-2.07 0-2.86zM5.41 20L4 18.59l7.72-7.72 1.47 1.35L5.41 20z\"/>\n",
              "  </svg>\n",
              "      </button>\n",
              "      \n",
              "  <style>\n",
              "    .colab-df-container {\n",
              "      display:flex;\n",
              "      flex-wrap:wrap;\n",
              "      gap: 12px;\n",
              "    }\n",
              "\n",
              "    .colab-df-convert {\n",
              "      background-color: #E8F0FE;\n",
              "      border: none;\n",
              "      border-radius: 50%;\n",
              "      cursor: pointer;\n",
              "      display: none;\n",
              "      fill: #1967D2;\n",
              "      height: 32px;\n",
              "      padding: 0 0 0 0;\n",
              "      width: 32px;\n",
              "    }\n",
              "\n",
              "    .colab-df-convert:hover {\n",
              "      background-color: #E2EBFA;\n",
              "      box-shadow: 0px 1px 2px rgba(60, 64, 67, 0.3), 0px 1px 3px 1px rgba(60, 64, 67, 0.15);\n",
              "      fill: #174EA6;\n",
              "    }\n",
              "\n",
              "    [theme=dark] .colab-df-convert {\n",
              "      background-color: #3B4455;\n",
              "      fill: #D2E3FC;\n",
              "    }\n",
              "\n",
              "    [theme=dark] .colab-df-convert:hover {\n",
              "      background-color: #434B5C;\n",
              "      box-shadow: 0px 1px 3px 1px rgba(0, 0, 0, 0.15);\n",
              "      filter: drop-shadow(0px 1px 2px rgba(0, 0, 0, 0.3));\n",
              "      fill: #FFFFFF;\n",
              "    }\n",
              "  </style>\n",
              "\n",
              "      <script>\n",
              "        const buttonEl =\n",
              "          document.querySelector('#df-9c3bbe33-39e8-4f1c-8be7-aff8289271d1 button.colab-df-convert');\n",
              "        buttonEl.style.display =\n",
              "          google.colab.kernel.accessAllowed ? 'block' : 'none';\n",
              "\n",
              "        async function convertToInteractive(key) {\n",
              "          const element = document.querySelector('#df-9c3bbe33-39e8-4f1c-8be7-aff8289271d1');\n",
              "          const dataTable =\n",
              "            await google.colab.kernel.invokeFunction('convertToInteractive',\n",
              "                                                     [key], {});\n",
              "          if (!dataTable) return;\n",
              "\n",
              "          const docLinkHtml = 'Like what you see? Visit the ' +\n",
              "            '<a target=\"_blank\" href=https://colab.research.google.com/notebooks/data_table.ipynb>data table notebook</a>'\n",
              "            + ' to learn more about interactive tables.';\n",
              "          element.innerHTML = '';\n",
              "          dataTable['output_type'] = 'display_data';\n",
              "          await google.colab.output.renderOutput(dataTable, element);\n",
              "          const docLink = document.createElement('div');\n",
              "          docLink.innerHTML = docLinkHtml;\n",
              "          element.appendChild(docLink);\n",
              "        }\n",
              "      </script>\n",
              "    </div>\n",
              "  </div>\n",
              "  "
            ]
          },
          "metadata": {},
          "execution_count": 5
        }
      ]
    },
    {
      "cell_type": "markdown",
      "source": [
        "2. Rename the columns to better suited names"
      ],
      "metadata": {
        "id": "LuyszE75pRos"
      }
    },
    {
      "cell_type": "code",
      "source": [
        "data.columns"
      ],
      "metadata": {
        "colab": {
          "base_uri": "https://localhost:8080/"
        },
        "id": "Cs62bmXMri8X",
        "outputId": "24453a91-57df-41dd-986c-80282abc794d"
      },
      "execution_count": 13,
      "outputs": [
        {
          "output_type": "execute_result",
          "data": {
            "text/plain": [
              "Index(['LandUse', 'PropertyAddress', 'SaleDate', 'SalePrice', 'Acre',\n",
              "       'LandValue', 'BuildingValue', 'TotalValue', 'YearBuilt', 'Bedrooms',\n",
              "       'FullBathroom', 'HalfBathroom', 'Year', 'Month', 'Day'],\n",
              "      dtype='object')"
            ]
          },
          "metadata": {},
          "execution_count": 13
        }
      ]
    },
    {
      "cell_type": "code",
      "source": [
        "data.rename(columns={\"FullBath\":\"FullBathroom\"},inplace=True)\n",
        "data.rename(columns={\"HalfBath\":\"HalfBathroom\"},inplace=True)"
      ],
      "metadata": {
        "id": "khTLV8xSqDPC"
      },
      "execution_count": 14,
      "outputs": []
    },
    {
      "cell_type": "markdown",
      "source": [
        "3. Extract the month and year from the sale date.\n",
        "\n"
      ],
      "metadata": {
        "id": "HxtgVHpVqgh0"
      }
    },
    {
      "cell_type": "code",
      "source": [
        "data['Year']=pd.DatetimeIndex(data['SaleDate']).year\n",
        "data['Month']=pd.DatetimeIndex(data['SaleDate']).month\n",
        "data['Day']=pd.DatetimeIndex(data['SaleDate']).day\n",
        "data"
      ],
      "metadata": {
        "colab": {
          "base_uri": "https://localhost:8080/",
          "height": 866
        },
        "id": "QjngprMhqhtp",
        "outputId": "e570e8f8-de01-497b-cb92-869a7cc5e006"
      },
      "execution_count": 12,
      "outputs": [
        {
          "output_type": "execute_result",
          "data": {
            "text/plain": [
              "                     LandUse                     PropertyAddress  \\\n",
              "UniqueID                                                           \n",
              "2045           SINGLE FAMILY  1808  FOX CHASE DR, GOODLETTSVILLE   \n",
              "16918          SINGLE FAMILY  1832  FOX CHASE DR, GOODLETTSVILLE   \n",
              "54582          SINGLE FAMILY  1864 FOX CHASE  DR, GOODLETTSVILLE   \n",
              "43070          SINGLE FAMILY  1853  FOX CHASE DR, GOODLETTSVILLE   \n",
              "22714          SINGLE FAMILY  1829  FOX CHASE DR, GOODLETTSVILLE   \n",
              "...                      ...                                 ...   \n",
              "18197      RESIDENTIAL CONDO    9234  SAWYER BROWN RD, NASHVILLE   \n",
              "16722      RESIDENTIAL CONDO    9309  SAWYER BROWN RD, NASHVILLE   \n",
              "14303          SINGLE FAMILY      738  HARPETH PKWY W, NASHVILLE   \n",
              "40443                 DUPLEX      730  HARPETH PKWY W, NASHVILLE   \n",
              "52966          SINGLE FAMILY      722 HARPETH  PKWY W, NASHVILLE   \n",
              "\n",
              "                     SaleDate SalePrice      Acre     LandValue  \\\n",
              "UniqueID                                                          \n",
              "2045            April 9, 2013    240000  2.300000  50000.000000   \n",
              "16918           June 10, 2014    366000  3.500000  50000.000000   \n",
              "54582      September 26, 2016    435000  2.900000  50000.000000   \n",
              "43070        January 29, 2016    255000  2.600000  50000.000000   \n",
              "22714        October 10, 2014    278000  2.000000  50000.000000   \n",
              "...                       ...       ...       ...           ...   \n",
              "18197           July 30, 2014    210000  0.449233  67566.948358   \n",
              "16722            June 6, 2014    210000  0.449233  67566.948358   \n",
              "14303          April 16, 2014    195000  0.420000  45000.000000   \n",
              "40443       November 30, 2015    215000  0.680000  54000.000000   \n",
              "52966          August 8, 2016    193000  0.450000  45000.000000   \n",
              "\n",
              "           BuildingValue     TotalValue    YearBuilt  Bedrooms  FullBathroom  \\\n",
              "UniqueID                                                                       \n",
              "2045       168200.000000  235700.000000  1986.000000  3.000000      3.000000   \n",
              "16918      264100.000000  319000.000000  1998.000000  3.000000      3.000000   \n",
              "54582      216200.000000  298000.000000  1987.000000  4.000000      3.000000   \n",
              "43070      147300.000000  197300.000000  1985.000000  3.000000      3.000000   \n",
              "22714      152300.000000  202300.000000  1984.000000  4.000000      3.000000   \n",
              "...                  ...            ...          ...       ...           ...   \n",
              "18197      159112.830994  229310.964346  1961.806766  3.076771      1.865587   \n",
              "16722      159112.830994  229310.964346  1961.806766  3.076771      1.865587   \n",
              "14303       99600.000000  144600.000000  1967.000000  3.000000      2.000000   \n",
              "40443      121500.000000  175500.000000  1970.000000  4.000000      2.000000   \n",
              "52966      115800.000000  160800.000000  1961.806766  3.076771      1.865587   \n",
              "\n",
              "           HalfBathroom  Year  Month  Day  \n",
              "UniqueID                                   \n",
              "2045           0.000000  2013      4    9  \n",
              "16918          2.000000  2014      6   10  \n",
              "54582          0.000000  2016      9   26  \n",
              "43070          0.000000  2016      1   29  \n",
              "22714          0.000000  2014     10   10  \n",
              "...                 ...   ...    ...  ...  \n",
              "18197          0.273795  2014      7   30  \n",
              "16722          0.273795  2014      6    6  \n",
              "14303          0.000000  2014      4   16  \n",
              "40443          0.000000  2015     11   30  \n",
              "52966          0.273795  2016      8    8  \n",
              "\n",
              "[41914 rows x 15 columns]"
            ],
            "text/html": [
              "\n",
              "  <div id=\"df-642e4559-1f49-4e84-b8ef-808cec7dea48\">\n",
              "    <div class=\"colab-df-container\">\n",
              "      <div>\n",
              "<style scoped>\n",
              "    .dataframe tbody tr th:only-of-type {\n",
              "        vertical-align: middle;\n",
              "    }\n",
              "\n",
              "    .dataframe tbody tr th {\n",
              "        vertical-align: top;\n",
              "    }\n",
              "\n",
              "    .dataframe thead th {\n",
              "        text-align: right;\n",
              "    }\n",
              "</style>\n",
              "<table border=\"1\" class=\"dataframe\">\n",
              "  <thead>\n",
              "    <tr style=\"text-align: right;\">\n",
              "      <th></th>\n",
              "      <th>LandUse</th>\n",
              "      <th>PropertyAddress</th>\n",
              "      <th>SaleDate</th>\n",
              "      <th>SalePrice</th>\n",
              "      <th>Acre</th>\n",
              "      <th>LandValue</th>\n",
              "      <th>BuildingValue</th>\n",
              "      <th>TotalValue</th>\n",
              "      <th>YearBuilt</th>\n",
              "      <th>Bedrooms</th>\n",
              "      <th>FullBathroom</th>\n",
              "      <th>HalfBathroom</th>\n",
              "      <th>Year</th>\n",
              "      <th>Month</th>\n",
              "      <th>Day</th>\n",
              "    </tr>\n",
              "    <tr>\n",
              "      <th>UniqueID</th>\n",
              "      <th></th>\n",
              "      <th></th>\n",
              "      <th></th>\n",
              "      <th></th>\n",
              "      <th></th>\n",
              "      <th></th>\n",
              "      <th></th>\n",
              "      <th></th>\n",
              "      <th></th>\n",
              "      <th></th>\n",
              "      <th></th>\n",
              "      <th></th>\n",
              "      <th></th>\n",
              "      <th></th>\n",
              "      <th></th>\n",
              "    </tr>\n",
              "  </thead>\n",
              "  <tbody>\n",
              "    <tr>\n",
              "      <th>2045</th>\n",
              "      <td>SINGLE FAMILY</td>\n",
              "      <td>1808  FOX CHASE DR, GOODLETTSVILLE</td>\n",
              "      <td>April 9, 2013</td>\n",
              "      <td>240000</td>\n",
              "      <td>2.300000</td>\n",
              "      <td>50000.000000</td>\n",
              "      <td>168200.000000</td>\n",
              "      <td>235700.000000</td>\n",
              "      <td>1986.000000</td>\n",
              "      <td>3.000000</td>\n",
              "      <td>3.000000</td>\n",
              "      <td>0.000000</td>\n",
              "      <td>2013</td>\n",
              "      <td>4</td>\n",
              "      <td>9</td>\n",
              "    </tr>\n",
              "    <tr>\n",
              "      <th>16918</th>\n",
              "      <td>SINGLE FAMILY</td>\n",
              "      <td>1832  FOX CHASE DR, GOODLETTSVILLE</td>\n",
              "      <td>June 10, 2014</td>\n",
              "      <td>366000</td>\n",
              "      <td>3.500000</td>\n",
              "      <td>50000.000000</td>\n",
              "      <td>264100.000000</td>\n",
              "      <td>319000.000000</td>\n",
              "      <td>1998.000000</td>\n",
              "      <td>3.000000</td>\n",
              "      <td>3.000000</td>\n",
              "      <td>2.000000</td>\n",
              "      <td>2014</td>\n",
              "      <td>6</td>\n",
              "      <td>10</td>\n",
              "    </tr>\n",
              "    <tr>\n",
              "      <th>54582</th>\n",
              "      <td>SINGLE FAMILY</td>\n",
              "      <td>1864 FOX CHASE  DR, GOODLETTSVILLE</td>\n",
              "      <td>September 26, 2016</td>\n",
              "      <td>435000</td>\n",
              "      <td>2.900000</td>\n",
              "      <td>50000.000000</td>\n",
              "      <td>216200.000000</td>\n",
              "      <td>298000.000000</td>\n",
              "      <td>1987.000000</td>\n",
              "      <td>4.000000</td>\n",
              "      <td>3.000000</td>\n",
              "      <td>0.000000</td>\n",
              "      <td>2016</td>\n",
              "      <td>9</td>\n",
              "      <td>26</td>\n",
              "    </tr>\n",
              "    <tr>\n",
              "      <th>43070</th>\n",
              "      <td>SINGLE FAMILY</td>\n",
              "      <td>1853  FOX CHASE DR, GOODLETTSVILLE</td>\n",
              "      <td>January 29, 2016</td>\n",
              "      <td>255000</td>\n",
              "      <td>2.600000</td>\n",
              "      <td>50000.000000</td>\n",
              "      <td>147300.000000</td>\n",
              "      <td>197300.000000</td>\n",
              "      <td>1985.000000</td>\n",
              "      <td>3.000000</td>\n",
              "      <td>3.000000</td>\n",
              "      <td>0.000000</td>\n",
              "      <td>2016</td>\n",
              "      <td>1</td>\n",
              "      <td>29</td>\n",
              "    </tr>\n",
              "    <tr>\n",
              "      <th>22714</th>\n",
              "      <td>SINGLE FAMILY</td>\n",
              "      <td>1829  FOX CHASE DR, GOODLETTSVILLE</td>\n",
              "      <td>October 10, 2014</td>\n",
              "      <td>278000</td>\n",
              "      <td>2.000000</td>\n",
              "      <td>50000.000000</td>\n",
              "      <td>152300.000000</td>\n",
              "      <td>202300.000000</td>\n",
              "      <td>1984.000000</td>\n",
              "      <td>4.000000</td>\n",
              "      <td>3.000000</td>\n",
              "      <td>0.000000</td>\n",
              "      <td>2014</td>\n",
              "      <td>10</td>\n",
              "      <td>10</td>\n",
              "    </tr>\n",
              "    <tr>\n",
              "      <th>...</th>\n",
              "      <td>...</td>\n",
              "      <td>...</td>\n",
              "      <td>...</td>\n",
              "      <td>...</td>\n",
              "      <td>...</td>\n",
              "      <td>...</td>\n",
              "      <td>...</td>\n",
              "      <td>...</td>\n",
              "      <td>...</td>\n",
              "      <td>...</td>\n",
              "      <td>...</td>\n",
              "      <td>...</td>\n",
              "      <td>...</td>\n",
              "      <td>...</td>\n",
              "      <td>...</td>\n",
              "    </tr>\n",
              "    <tr>\n",
              "      <th>18197</th>\n",
              "      <td>RESIDENTIAL CONDO</td>\n",
              "      <td>9234  SAWYER BROWN RD, NASHVILLE</td>\n",
              "      <td>July 30, 2014</td>\n",
              "      <td>210000</td>\n",
              "      <td>0.449233</td>\n",
              "      <td>67566.948358</td>\n",
              "      <td>159112.830994</td>\n",
              "      <td>229310.964346</td>\n",
              "      <td>1961.806766</td>\n",
              "      <td>3.076771</td>\n",
              "      <td>1.865587</td>\n",
              "      <td>0.273795</td>\n",
              "      <td>2014</td>\n",
              "      <td>7</td>\n",
              "      <td>30</td>\n",
              "    </tr>\n",
              "    <tr>\n",
              "      <th>16722</th>\n",
              "      <td>RESIDENTIAL CONDO</td>\n",
              "      <td>9309  SAWYER BROWN RD, NASHVILLE</td>\n",
              "      <td>June 6, 2014</td>\n",
              "      <td>210000</td>\n",
              "      <td>0.449233</td>\n",
              "      <td>67566.948358</td>\n",
              "      <td>159112.830994</td>\n",
              "      <td>229310.964346</td>\n",
              "      <td>1961.806766</td>\n",
              "      <td>3.076771</td>\n",
              "      <td>1.865587</td>\n",
              "      <td>0.273795</td>\n",
              "      <td>2014</td>\n",
              "      <td>6</td>\n",
              "      <td>6</td>\n",
              "    </tr>\n",
              "    <tr>\n",
              "      <th>14303</th>\n",
              "      <td>SINGLE FAMILY</td>\n",
              "      <td>738  HARPETH PKWY W, NASHVILLE</td>\n",
              "      <td>April 16, 2014</td>\n",
              "      <td>195000</td>\n",
              "      <td>0.420000</td>\n",
              "      <td>45000.000000</td>\n",
              "      <td>99600.000000</td>\n",
              "      <td>144600.000000</td>\n",
              "      <td>1967.000000</td>\n",
              "      <td>3.000000</td>\n",
              "      <td>2.000000</td>\n",
              "      <td>0.000000</td>\n",
              "      <td>2014</td>\n",
              "      <td>4</td>\n",
              "      <td>16</td>\n",
              "    </tr>\n",
              "    <tr>\n",
              "      <th>40443</th>\n",
              "      <td>DUPLEX</td>\n",
              "      <td>730  HARPETH PKWY W, NASHVILLE</td>\n",
              "      <td>November 30, 2015</td>\n",
              "      <td>215000</td>\n",
              "      <td>0.680000</td>\n",
              "      <td>54000.000000</td>\n",
              "      <td>121500.000000</td>\n",
              "      <td>175500.000000</td>\n",
              "      <td>1970.000000</td>\n",
              "      <td>4.000000</td>\n",
              "      <td>2.000000</td>\n",
              "      <td>0.000000</td>\n",
              "      <td>2015</td>\n",
              "      <td>11</td>\n",
              "      <td>30</td>\n",
              "    </tr>\n",
              "    <tr>\n",
              "      <th>52966</th>\n",
              "      <td>SINGLE FAMILY</td>\n",
              "      <td>722 HARPETH  PKWY W, NASHVILLE</td>\n",
              "      <td>August 8, 2016</td>\n",
              "      <td>193000</td>\n",
              "      <td>0.450000</td>\n",
              "      <td>45000.000000</td>\n",
              "      <td>115800.000000</td>\n",
              "      <td>160800.000000</td>\n",
              "      <td>1961.806766</td>\n",
              "      <td>3.076771</td>\n",
              "      <td>1.865587</td>\n",
              "      <td>0.273795</td>\n",
              "      <td>2016</td>\n",
              "      <td>8</td>\n",
              "      <td>8</td>\n",
              "    </tr>\n",
              "  </tbody>\n",
              "</table>\n",
              "<p>41914 rows × 15 columns</p>\n",
              "</div>\n",
              "      <button class=\"colab-df-convert\" onclick=\"convertToInteractive('df-642e4559-1f49-4e84-b8ef-808cec7dea48')\"\n",
              "              title=\"Convert this dataframe to an interactive table.\"\n",
              "              style=\"display:none;\">\n",
              "        \n",
              "  <svg xmlns=\"http://www.w3.org/2000/svg\" height=\"24px\"viewBox=\"0 0 24 24\"\n",
              "       width=\"24px\">\n",
              "    <path d=\"M0 0h24v24H0V0z\" fill=\"none\"/>\n",
              "    <path d=\"M18.56 5.44l.94 2.06.94-2.06 2.06-.94-2.06-.94-.94-2.06-.94 2.06-2.06.94zm-11 1L8.5 8.5l.94-2.06 2.06-.94-2.06-.94L8.5 2.5l-.94 2.06-2.06.94zm10 10l.94 2.06.94-2.06 2.06-.94-2.06-.94-.94-2.06-.94 2.06-2.06.94z\"/><path d=\"M17.41 7.96l-1.37-1.37c-.4-.4-.92-.59-1.43-.59-.52 0-1.04.2-1.43.59L10.3 9.45l-7.72 7.72c-.78.78-.78 2.05 0 2.83L4 21.41c.39.39.9.59 1.41.59.51 0 1.02-.2 1.41-.59l7.78-7.78 2.81-2.81c.8-.78.8-2.07 0-2.86zM5.41 20L4 18.59l7.72-7.72 1.47 1.35L5.41 20z\"/>\n",
              "  </svg>\n",
              "      </button>\n",
              "      \n",
              "  <style>\n",
              "    .colab-df-container {\n",
              "      display:flex;\n",
              "      flex-wrap:wrap;\n",
              "      gap: 12px;\n",
              "    }\n",
              "\n",
              "    .colab-df-convert {\n",
              "      background-color: #E8F0FE;\n",
              "      border: none;\n",
              "      border-radius: 50%;\n",
              "      cursor: pointer;\n",
              "      display: none;\n",
              "      fill: #1967D2;\n",
              "      height: 32px;\n",
              "      padding: 0 0 0 0;\n",
              "      width: 32px;\n",
              "    }\n",
              "\n",
              "    .colab-df-convert:hover {\n",
              "      background-color: #E2EBFA;\n",
              "      box-shadow: 0px 1px 2px rgba(60, 64, 67, 0.3), 0px 1px 3px 1px rgba(60, 64, 67, 0.15);\n",
              "      fill: #174EA6;\n",
              "    }\n",
              "\n",
              "    [theme=dark] .colab-df-convert {\n",
              "      background-color: #3B4455;\n",
              "      fill: #D2E3FC;\n",
              "    }\n",
              "\n",
              "    [theme=dark] .colab-df-convert:hover {\n",
              "      background-color: #434B5C;\n",
              "      box-shadow: 0px 1px 3px 1px rgba(0, 0, 0, 0.15);\n",
              "      filter: drop-shadow(0px 1px 2px rgba(0, 0, 0, 0.3));\n",
              "      fill: #FFFFFF;\n",
              "    }\n",
              "  </style>\n",
              "\n",
              "      <script>\n",
              "        const buttonEl =\n",
              "          document.querySelector('#df-642e4559-1f49-4e84-b8ef-808cec7dea48 button.colab-df-convert');\n",
              "        buttonEl.style.display =\n",
              "          google.colab.kernel.accessAllowed ? 'block' : 'none';\n",
              "\n",
              "        async function convertToInteractive(key) {\n",
              "          const element = document.querySelector('#df-642e4559-1f49-4e84-b8ef-808cec7dea48');\n",
              "          const dataTable =\n",
              "            await google.colab.kernel.invokeFunction('convertToInteractive',\n",
              "                                                     [key], {});\n",
              "          if (!dataTable) return;\n",
              "\n",
              "          const docLinkHtml = 'Like what you see? Visit the ' +\n",
              "            '<a target=\"_blank\" href=https://colab.research.google.com/notebooks/data_table.ipynb>data table notebook</a>'\n",
              "            + ' to learn more about interactive tables.';\n",
              "          element.innerHTML = '';\n",
              "          dataTable['output_type'] = 'display_data';\n",
              "          await google.colab.output.renderOutput(dataTable, element);\n",
              "          const docLink = document.createElement('div');\n",
              "          docLink.innerHTML = docLinkHtml;\n",
              "          element.appendChild(docLink);\n",
              "        }\n",
              "      </script>\n",
              "    </div>\n",
              "  </div>\n",
              "  "
            ]
          },
          "metadata": {},
          "execution_count": 12
        }
      ]
    },
    {
      "cell_type": "markdown",
      "source": [
        "4. Extract the pin number from the property address"
      ],
      "metadata": {
        "id": "8WoKbAQ-sEI9"
      }
    },
    {
      "cell_type": "code",
      "source": [
        "data['Pin'] = data['PropertyAddress'].str[:4]\n",
        "data['Pin']"
      ],
      "metadata": {
        "colab": {
          "base_uri": "https://localhost:8080/"
        },
        "id": "NWIsoXVasGzU",
        "outputId": "5540b34d-73b1-4d3e-c297-1d7769d64177"
      },
      "execution_count": 15,
      "outputs": [
        {
          "output_type": "execute_result",
          "data": {
            "text/plain": [
              "UniqueID \n",
              "2045     1808\n",
              "16918    1832\n",
              "54582    1864\n",
              "43070    1853\n",
              "22714    1829\n",
              "         ... \n",
              "18197    9234\n",
              "16722    9309\n",
              "14303    738 \n",
              "40443    730 \n",
              "52966    722 \n",
              "Name: Pin, Length: 41914, dtype: object"
            ]
          },
          "metadata": {},
          "execution_count": 15
        }
      ]
    },
    {
      "cell_type": "markdown",
      "source": [
        "1. How has the price of properties changed over the years"
      ],
      "metadata": {
        "id": "k6yI8Hl-sdwU"
      }
    },
    {
      "cell_type": "code",
      "source": [
        "sales_grouped_data = data.groupby('Year')['SalePrice'].count()\n",
        "sales_grouped_data"
      ],
      "metadata": {
        "colab": {
          "base_uri": "https://localhost:8080/"
        },
        "id": "4Qc6uXBZsln_",
        "outputId": "403c7ac2-27f0-4686-f497-e749d6dbafbe"
      },
      "execution_count": 16,
      "outputs": [
        {
          "output_type": "execute_result",
          "data": {
            "text/plain": [
              "Year\n",
              "2013     8393\n",
              "2014    10713\n",
              "2015    12345\n",
              "2016    10463\n",
              "Name: SalePrice, dtype: int64"
            ]
          },
          "metadata": {},
          "execution_count": 16
        }
      ]
    },
    {
      "cell_type": "code",
      "source": [
        "sns.lineplot(x=sales_grouped_data.index, y =sales_grouped_data.values)"
      ],
      "metadata": {
        "colab": {
          "base_uri": "https://localhost:8080/",
          "height": 304
        },
        "id": "CaCPhnVntbaV",
        "outputId": "308c2283-d281-4e5a-a816-8c4df23bf529"
      },
      "execution_count": 17,
      "outputs": [
        {
          "output_type": "execute_result",
          "data": {
            "text/plain": [
              "<matplotlib.axes._subplots.AxesSubplot at 0x7f5c17b56bd0>"
            ]
          },
          "metadata": {},
          "execution_count": 17
        },
        {
          "output_type": "display_data",
          "data": {
            "text/plain": [
              "<Figure size 432x288 with 1 Axes>"
            ],
            "image/png": "[encoded data removed]"
          },
          "metadata": {
            "needs_background": "light"
          }
        }
      ]
    },
    {
      "cell_type": "markdown",
      "source": [
        "2. Does a specific month or span of months have the highest property prices?"
      ],
      "metadata": {
        "id": "qNUY-MV8tiIH"
      }
    },
    {
      "cell_type": "code",
      "source": [
        "month_grouped_data = data.groupby('Month')['SalePrice'].count()\n",
        "month_grouped_data"
      ],
      "metadata": {
        "colab": {
          "base_uri": "https://localhost:8080/"
        },
        "id": "ovd9EETXtuTU",
        "outputId": "0a7e1259-43ef-4a0e-f31a-fd8a20012de4"
      },
      "execution_count": 18,
      "outputs": [
        {
          "output_type": "execute_result",
          "data": {
            "text/plain": [
              "Month\n",
              "1     2452\n",
              "2     2098\n",
              "3     3310\n",
              "4     3928\n",
              "5     4428\n",
              "6     4876\n",
              "7     4065\n",
              "8     4109\n",
              "9     3986\n",
              "10    3580\n",
              "11    2373\n",
              "12    2709\n",
              "Name: SalePrice, dtype: int64"
            ]
          },
          "metadata": {},
          "execution_count": 18
        }
      ]
    },
    {
      "cell_type": "code",
      "source": [
        "sns.barplot(x=month_grouped_data.index,y=month_grouped_data.values)"
      ],
      "metadata": {
        "colab": {
          "base_uri": "https://localhost:8080/",
          "height": 302
        },
        "id": "VSX-mi6st-dE",
        "outputId": "d5dc2a18-f276-440b-952c-6ce3bd8cdb02"
      },
      "execution_count": 19,
      "outputs": [
        {
          "output_type": "execute_result",
          "data": {
            "text/plain": [
              "<matplotlib.axes._subplots.AxesSubplot at 0x7f5c16c2d950>"
            ]
          },
          "metadata": {},
          "execution_count": 19
        },
        {
          "output_type": "display_data",
          "data": {
            "text/plain": [
              "<Figure size 432x288 with 1 Axes>"
            ],
            "image/png": "[encoded data removed]"
          },
          "metadata": {
            "needs_background": "light"
          }
        }
      ]
    },
    {
      "cell_type": "markdown",
      "source": [
        "From the above barplot, we can make out that the sales are at their peak during the middle of the year, especially around June."
      ],
      "metadata": {
        "id": "nr5kgeoruLyt"
      }
    },
    {
      "cell_type": "markdown",
      "source": [
        "3. For what purpose were the properties generally purchased?"
      ],
      "metadata": {
        "id": "cu-lKZ36uXHX"
      }
    },
    {
      "cell_type": "code",
      "source": [
        "data['LandUse'].unique()"
      ],
      "metadata": {
        "colab": {
          "base_uri": "https://localhost:8080/"
        },
        "id": "nx1oAEbkuaJ6",
        "outputId": "1f983395-61a3-4604-b9e3-fb4cd8ce3aca"
      },
      "execution_count": 20,
      "outputs": [
        {
          "output_type": "execute_result",
          "data": {
            "text/plain": [
              "array(['SINGLE FAMILY', 'RESIDENTIAL CONDO', 'VACANT RURAL LAND',\n",
              "       'VACANT RES LAND', 'DUPLEX', 'VACANT RESIDENTIAL LAND', 'CHURCH',\n",
              "       'ZERO LOT LINE', 'RESIDENTIAL COMBO/MISC', 'PARSONAGE',\n",
              "       'OFFICE BLDG (ONE OR TWO STORIES)',\n",
              "       'GREENBELT/RES\\r\\nGRRENBELT/RES', 'MOBILE HOME', 'PARKING LOT',\n",
              "       'CLUB/UNION HALL/LODGE', 'TRIPLEX', 'VACANT ZONED MULTI FAMILY',\n",
              "       'SPLIT CLASS', 'CONDO', 'QUADPLEX', 'LIGHT MANUFACTURING',\n",
              "       'FOREST', 'CONVENIENCE MARKET WITHOUT GAS',\n",
              "       'DORMITORY/BOARDING HOUSE', 'GREENBELT', 'DAY CARE CENTER',\n",
              "       'METRO OTHER THAN OFC, SCHOOL,HOSP, OR PARK',\n",
              "       'TERMINAL/DISTRIBUTION WAREHOUSE', 'NIGHTCLUB/LOUNGE',\n",
              "       'RESTURANT/CAFETERIA', 'VACANT COMMERCIAL LAND',\n",
              "       'CONDOMINIUM OFC  OR OTHER COM CONDO', 'STRIP SHOPPING CENTER',\n",
              "       'VACANT RESIENTIAL LAND', 'APARTMENT: LOW RISE (BUILT SINCE 1960)',\n",
              "       'ONE STORY GENERAL RETAIL STORE', 'NON-PROFIT CHARITABLE SERVICE',\n",
              "       'SMALL SERVICE SHOP', 'MORTUARY/CEMETERY'], dtype=object)"
            ]
          },
          "metadata": {},
          "execution_count": 20
        }
      ]
    },
    {
      "cell_type": "code",
      "source": [
        "sns.countplot(x='LandUse', data = data)"
      ],
      "metadata": {
        "colab": {
          "base_uri": "https://localhost:8080/",
          "height": 403
        },
        "id": "N431DNbwunTN",
        "outputId": "8c5dbb14-72c8-4abc-910f-a0a53a0f769b"
      },
      "execution_count": 21,
      "outputs": [
        {
          "output_type": "execute_result",
          "data": {
            "text/plain": [
              "<matplotlib.axes._subplots.AxesSubplot at 0x7f5c166b1210>"
            ]
          },
          "metadata": {},
          "execution_count": 21
        },
        {
          "output_type": "stream",
          "name": "stderr",
          "text": [
            "/usr/local/lib/python3.7/dist-packages/matplotlib/backends/backend_agg.py:214: RuntimeWarning: Glyph 13 missing from current font.\n",
            "  font.set_text(s, 0.0, flags=flags)\n",
            "/usr/local/lib/python3.7/dist-packages/matplotlib/backends/backend_agg.py:183: RuntimeWarning: Glyph 13 missing from current font.\n",
            "  font.set_text(s, 0, flags=flags)\n"
          ]
        },
        {
          "output_type": "display_data",
          "data": {
            "text/plain": [
              "<Figure size 432x288 with 1 Axes>"
            ],
            "image/png": "[encoded data removed]"
          },
          "metadata": {
            "needs_background": "light"
          }
        }
      ]
    },
    {
      "cell_type": "code",
      "source": [
        "purpose_grouped_data = data.groupby('LandUse')['LandUse'].count()\n",
        "purpose_grouped_data.sort_values(ascending = False)"
      ],
      "metadata": {
        "colab": {
          "base_uri": "https://localhost:8080/"
        },
        "id": "HW7ZJOVkust6",
        "outputId": "d13d9ff6-03be-4f71-a0a5-f0e58a4389a6"
      },
      "execution_count": 22,
      "outputs": [
        {
          "output_type": "execute_result",
          "data": {
            "text/plain": [
              "LandUse\n",
              "SINGLE FAMILY                                 24298\n",
              "RESIDENTIAL CONDO                             11508\n",
              "VACANT RESIDENTIAL LAND                        2537\n",
              "DUPLEX                                         1267\n",
              "VACANT RES LAND                                 921\n",
              "ZERO LOT LINE                                   798\n",
              "CONDO                                           183\n",
              "RESIDENTIAL COMBO/MISC                           93\n",
              "TRIPLEX                                          91\n",
              "QUADPLEX                                         37\n",
              "CHURCH                                           30\n",
              "CONDOMINIUM OFC  OR OTHER COM CONDO              22\n",
              "MOBILE HOME                                      20\n",
              "DORMITORY/BOARDING HOUSE                         18\n",
              "VACANT COMMERCIAL LAND                           17\n",
              "SPLIT CLASS                                      15\n",
              "PARKING LOT                                      11\n",
              "FOREST                                            8\n",
              "GREENBELT                                         8\n",
              "PARSONAGE                                         4\n",
              "GREENBELT/RES\\r\\nGRRENBELT/RES                    3\n",
              "RESTURANT/CAFETERIA                               2\n",
              "TERMINAL/DISTRIBUTION WAREHOUSE                   2\n",
              "VACANT ZONED MULTI FAMILY                         2\n",
              "VACANT RURAL LAND                                 2\n",
              "APARTMENT: LOW RISE (BUILT SINCE 1960)            2\n",
              "OFFICE BLDG (ONE OR TWO STORIES)                  2\n",
              "DAY CARE CENTER                                   2\n",
              "SMALL SERVICE SHOP                                1\n",
              "NON-PROFIT CHARITABLE SERVICE                     1\n",
              "STRIP SHOPPING CENTER                             1\n",
              "NIGHTCLUB/LOUNGE                                  1\n",
              "MORTUARY/CEMETERY                                 1\n",
              "METRO OTHER THAN OFC, SCHOOL,HOSP, OR PARK        1\n",
              "LIGHT MANUFACTURING                               1\n",
              "VACANT RESIENTIAL LAND                            1\n",
              "CONVENIENCE MARKET WITHOUT GAS                    1\n",
              "CLUB/UNION HALL/LODGE                             1\n",
              "ONE STORY GENERAL RETAIL STORE                    1\n",
              "Name: LandUse, dtype: int64"
            ]
          },
          "metadata": {},
          "execution_count": 22
        }
      ]
    },
    {
      "cell_type": "markdown",
      "source": [
        "Clearly, from the above arrangement 'SINGLE FAMILY' and 'RESIDENTIAL CONDO' were the major reasons for the purchase of houses"
      ],
      "metadata": {
        "id": "MlYxH4m1u4Do"
      }
    },
    {
      "cell_type": "markdown",
      "source": [
        "4. What is the average age of the properties?"
      ],
      "metadata": {
        "id": "EfHowZDvu-b7"
      }
    },
    {
      "cell_type": "code",
      "source": [
        "math.trunc(data['YearBuilt'].mean())"
      ],
      "metadata": {
        "colab": {
          "base_uri": "https://localhost:8080/"
        },
        "id": "ZW04oP8pvBFe",
        "outputId": "4fc520b1-9b13-47fb-e71c-b5d7bc3a6d1b"
      },
      "execution_count": 23,
      "outputs": [
        {
          "output_type": "execute_result",
          "data": {
            "text/plain": [
              "1961"
            ]
          },
          "metadata": {},
          "execution_count": 23
        }
      ]
    },
    {
      "cell_type": "code",
      "source": [
        "data['YearBuilt'].max()"
      ],
      "metadata": {
        "colab": {
          "base_uri": "https://localhost:8080/"
        },
        "id": "_7KDpwKxvTJC",
        "outputId": "af706e25-1a42-43ef-bc99-1595e40009f9"
      },
      "execution_count": 24,
      "outputs": [
        {
          "output_type": "execute_result",
          "data": {
            "text/plain": [
              "2017.0"
            ]
          },
          "metadata": {},
          "execution_count": 24
        }
      ]
    },
    {
      "cell_type": "markdown",
      "source": [
        "5. Have the age of houses affected the price?"
      ],
      "metadata": {
        "id": "4ePKdP3AvaXp"
      }
    },
    {
      "cell_type": "code",
      "source": [
        "data.head()"
      ],
      "metadata": {
        "colab": {
          "base_uri": "https://localhost:8080/",
          "height": 475
        },
        "id": "jUWf4Ha3vbVU",
        "outputId": "a1099c81-1586-4b5a-e54c-57cca38bc7e3"
      },
      "execution_count": 25,
      "outputs": [
        {
          "output_type": "execute_result",
          "data": {
            "text/plain": [
              "                 LandUse                     PropertyAddress  \\\n",
              "UniqueID                                                       \n",
              "2045       SINGLE FAMILY  1808  FOX CHASE DR, GOODLETTSVILLE   \n",
              "16918      SINGLE FAMILY  1832  FOX CHASE DR, GOODLETTSVILLE   \n",
              "54582      SINGLE FAMILY  1864 FOX CHASE  DR, GOODLETTSVILLE   \n",
              "43070      SINGLE FAMILY  1853  FOX CHASE DR, GOODLETTSVILLE   \n",
              "22714      SINGLE FAMILY  1829  FOX CHASE DR, GOODLETTSVILLE   \n",
              "\n",
              "                     SaleDate SalePrice  Acre  LandValue  BuildingValue  \\\n",
              "UniqueID                                                                  \n",
              "2045            April 9, 2013    240000   2.3    50000.0       168200.0   \n",
              "16918           June 10, 2014    366000   3.5    50000.0       264100.0   \n",
              "54582      September 26, 2016    435000   2.9    50000.0       216200.0   \n",
              "43070        January 29, 2016    255000   2.6    50000.0       147300.0   \n",
              "22714        October 10, 2014    278000   2.0    50000.0       152300.0   \n",
              "\n",
              "           TotalValue  YearBuilt  Bedrooms  FullBathroom  HalfBathroom  Year  \\\n",
              "UniqueID                                                                       \n",
              "2045         235700.0     1986.0       3.0           3.0           0.0  2013   \n",
              "16918        319000.0     1998.0       3.0           3.0           2.0  2014   \n",
              "54582        298000.0     1987.0       4.0           3.0           0.0  2016   \n",
              "43070        197300.0     1985.0       3.0           3.0           0.0  2016   \n",
              "22714        202300.0     1984.0       4.0           3.0           0.0  2014   \n",
              "\n",
              "           Month  Day   Pin  \n",
              "UniqueID                     \n",
              "2045           4    9  1808  \n",
              "16918          6   10  1832  \n",
              "54582          9   26  1864  \n",
              "43070          1   29  1853  \n",
              "22714         10   10  1829  "
            ],
            "text/html": [
              "\n",
              "  <div id=\"df-b020120e-4bdd-4dce-b312-bd307ce69926\">\n",
              "    <div class=\"colab-df-container\">\n",
              "      <div>\n",
              "<style scoped>\n",
              "    .dataframe tbody tr th:only-of-type {\n",
              "        vertical-align: middle;\n",
              "    }\n",
              "\n",
              "    .dataframe tbody tr th {\n",
              "        vertical-align: top;\n",
              "    }\n",
              "\n",
              "    .dataframe thead th {\n",
              "        text-align: right;\n",
              "    }\n",
              "</style>\n",
              "<table border=\"1\" class=\"dataframe\">\n",
              "  <thead>\n",
              "    <tr style=\"text-align: right;\">\n",
              "      <th></th>\n",
              "      <th>LandUse</th>\n",
              "      <th>PropertyAddress</th>\n",
              "      <th>SaleDate</th>\n",
              "      <th>SalePrice</th>\n",
              "      <th>Acre</th>\n",
              "      <th>LandValue</th>\n",
              "      <th>BuildingValue</th>\n",
              "      <th>TotalValue</th>\n",
              "      <th>YearBuilt</th>\n",
              "      <th>Bedrooms</th>\n",
              "      <th>FullBathroom</th>\n",
              "      <th>HalfBathroom</th>\n",
              "      <th>Year</th>\n",
              "      <th>Month</th>\n",
              "      <th>Day</th>\n",
              "      <th>Pin</th>\n",
              "    </tr>\n",
              "    <tr>\n",
              "      <th>UniqueID</th>\n",
              "      <th></th>\n",
              "      <th></th>\n",
              "      <th></th>\n",
              "      <th></th>\n",
              "      <th></th>\n",
              "      <th></th>\n",
              "      <th></th>\n",
              "      <th></th>\n",
              "      <th></th>\n",
              "      <th></th>\n",
              "      <th></th>\n",
              "      <th></th>\n",
              "      <th></th>\n",
              "      <th></th>\n",
              "      <th></th>\n",
              "      <th></th>\n",
              "    </tr>\n",
              "  </thead>\n",
              "  <tbody>\n",
              "    <tr>\n",
              "      <th>2045</th>\n",
              "      <td>SINGLE FAMILY</td>\n",
              "      <td>1808  FOX CHASE DR, GOODLETTSVILLE</td>\n",
              "      <td>April 9, 2013</td>\n",
              "      <td>240000</td>\n",
              "      <td>2.3</td>\n",
              "      <td>50000.0</td>\n",
              "      <td>168200.0</td>\n",
              "      <td>235700.0</td>\n",
              "      <td>1986.0</td>\n",
              "      <td>3.0</td>\n",
              "      <td>3.0</td>\n",
              "      <td>0.0</td>\n",
              "      <td>2013</td>\n",
              "      <td>4</td>\n",
              "      <td>9</td>\n",
              "      <td>1808</td>\n",
              "    </tr>\n",
              "    <tr>\n",
              "      <th>16918</th>\n",
              "      <td>SINGLE FAMILY</td>\n",
              "      <td>1832  FOX CHASE DR, GOODLETTSVILLE</td>\n",
              "      <td>June 10, 2014</td>\n",
              "      <td>366000</td>\n",
              "      <td>3.5</td>\n",
              "      <td>50000.0</td>\n",
              "      <td>264100.0</td>\n",
              "      <td>319000.0</td>\n",
              "      <td>1998.0</td>\n",
              "      <td>3.0</td>\n",
              "      <td>3.0</td>\n",
              "      <td>2.0</td>\n",
              "      <td>2014</td>\n",
              "      <td>6</td>\n",
              "      <td>10</td>\n",
              "      <td>1832</td>\n",
              "    </tr>\n",
              "    <tr>\n",
              "      <th>54582</th>\n",
              "      <td>SINGLE FAMILY</td>\n",
              "      <td>1864 FOX CHASE  DR, GOODLETTSVILLE</td>\n",
              "      <td>September 26, 2016</td>\n",
              "      <td>435000</td>\n",
              "      <td>2.9</td>\n",
              "      <td>50000.0</td>\n",
              "      <td>216200.0</td>\n",
              "      <td>298000.0</td>\n",
              "      <td>1987.0</td>\n",
              "      <td>4.0</td>\n",
              "      <td>3.0</td>\n",
              "      <td>0.0</td>\n",
              "      <td>2016</td>\n",
              "      <td>9</td>\n",
              "      <td>26</td>\n",
              "      <td>1864</td>\n",
              "    </tr>\n",
              "    <tr>\n",
              "      <th>43070</th>\n",
              "      <td>SINGLE FAMILY</td>\n",
              "      <td>1853  FOX CHASE DR, GOODLETTSVILLE</td>\n",
              "      <td>January 29, 2016</td>\n",
              "      <td>255000</td>\n",
              "      <td>2.6</td>\n",
              "      <td>50000.0</td>\n",
              "      <td>147300.0</td>\n",
              "      <td>197300.0</td>\n",
              "      <td>1985.0</td>\n",
              "      <td>3.0</td>\n",
              "      <td>3.0</td>\n",
              "      <td>0.0</td>\n",
              "      <td>2016</td>\n",
              "      <td>1</td>\n",
              "      <td>29</td>\n",
              "      <td>1853</td>\n",
              "    </tr>\n",
              "    <tr>\n",
              "      <th>22714</th>\n",
              "      <td>SINGLE FAMILY</td>\n",
              "      <td>1829  FOX CHASE DR, GOODLETTSVILLE</td>\n",
              "      <td>October 10, 2014</td>\n",
              "      <td>278000</td>\n",
              "      <td>2.0</td>\n",
              "      <td>50000.0</td>\n",
              "      <td>152300.0</td>\n",
              "      <td>202300.0</td>\n",
              "      <td>1984.0</td>\n",
              "      <td>4.0</td>\n",
              "      <td>3.0</td>\n",
              "      <td>0.0</td>\n",
              "      <td>2014</td>\n",
              "      <td>10</td>\n",
              "      <td>10</td>\n",
              "      <td>1829</td>\n",
              "    </tr>\n",
              "  </tbody>\n",
              "</table>\n",
              "</div>\n",
              "      <button class=\"colab-df-convert\" onclick=\"convertToInteractive('df-b020120e-4bdd-4dce-b312-bd307ce69926')\"\n",
              "              title=\"Convert this dataframe to an interactive table.\"\n",
              "              style=\"display:none;\">\n",
              "        \n",
              "  <svg xmlns=\"http://www.w3.org/2000/svg\" height=\"24px\"viewBox=\"0 0 24 24\"\n",
              "       width=\"24px\">\n",
              "    <path d=\"M0 0h24v24H0V0z\" fill=\"none\"/>\n",
              "    <path d=\"M18.56 5.44l.94 2.06.94-2.06 2.06-.94-2.06-.94-.94-2.06-.94 2.06-2.06.94zm-11 1L8.5 8.5l.94-2.06 2.06-.94-2.06-.94L8.5 2.5l-.94 2.06-2.06.94zm10 10l.94 2.06.94-2.06 2.06-.94-2.06-.94-.94-2.06-.94 2.06-2.06.94z\"/><path d=\"M17.41 7.96l-1.37-1.37c-.4-.4-.92-.59-1.43-.59-.52 0-1.04.2-1.43.59L10.3 9.45l-7.72 7.72c-.78.78-.78 2.05 0 2.83L4 21.41c.39.39.9.59 1.41.59.51 0 1.02-.2 1.41-.59l7.78-7.78 2.81-2.81c.8-.78.8-2.07 0-2.86zM5.41 20L4 18.59l7.72-7.72 1.47 1.35L5.41 20z\"/>\n",
              "  </svg>\n",
              "      </button>\n",
              "      \n",
              "  <style>\n",
              "    .colab-df-container {\n",
              "      display:flex;\n",
              "      flex-wrap:wrap;\n",
              "      gap: 12px;\n",
              "    }\n",
              "\n",
              "    .colab-df-convert {\n",
              "      background-color: #E8F0FE;\n",
              "      border: none;\n",
              "      border-radius: 50%;\n",
              "      cursor: pointer;\n",
              "      display: none;\n",
              "      fill: #1967D2;\n",
              "      height: 32px;\n",
              "      padding: 0 0 0 0;\n",
              "      width: 32px;\n",
              "    }\n",
              "\n",
              "    .colab-df-convert:hover {\n",
              "      background-color: #E2EBFA;\n",
              "      box-shadow: 0px 1px 2px rgba(60, 64, 67, 0.3), 0px 1px 3px 1px rgba(60, 64, 67, 0.15);\n",
              "      fill: #174EA6;\n",
              "    }\n",
              "\n",
              "    [theme=dark] .colab-df-convert {\n",
              "      background-color: #3B4455;\n",
              "      fill: #D2E3FC;\n",
              "    }\n",
              "\n",
              "    [theme=dark] .colab-df-convert:hover {\n",
              "      background-color: #434B5C;\n",
              "      box-shadow: 0px 1px 3px 1px rgba(0, 0, 0, 0.15);\n",
              "      filter: drop-shadow(0px 1px 2px rgba(0, 0, 0, 0.3));\n",
              "      fill: #FFFFFF;\n",
              "    }\n",
              "  </style>\n",
              "\n",
              "      <script>\n",
              "        const buttonEl =\n",
              "          document.querySelector('#df-b020120e-4bdd-4dce-b312-bd307ce69926 button.colab-df-convert');\n",
              "        buttonEl.style.display =\n",
              "          google.colab.kernel.accessAllowed ? 'block' : 'none';\n",
              "\n",
              "        async function convertToInteractive(key) {\n",
              "          const element = document.querySelector('#df-b020120e-4bdd-4dce-b312-bd307ce69926');\n",
              "          const dataTable =\n",
              "            await google.colab.kernel.invokeFunction('convertToInteractive',\n",
              "                                                     [key], {});\n",
              "          if (!dataTable) return;\n",
              "\n",
              "          const docLinkHtml = 'Like what you see? Visit the ' +\n",
              "            '<a target=\"_blank\" href=https://colab.research.google.com/notebooks/data_table.ipynb>data table notebook</a>'\n",
              "            + ' to learn more about interactive tables.';\n",
              "          element.innerHTML = '';\n",
              "          dataTable['output_type'] = 'display_data';\n",
              "          await google.colab.output.renderOutput(dataTable, element);\n",
              "          const docLink = document.createElement('div');\n",
              "          docLink.innerHTML = docLinkHtml;\n",
              "          element.appendChild(docLink);\n",
              "        }\n",
              "      </script>\n",
              "    </div>\n",
              "  </div>\n",
              "  "
            ]
          },
          "metadata": {},
          "execution_count": 25
        }
      ]
    },
    {
      "cell_type": "code",
      "source": [
        "age_grouped_data = data.groupby('YearBuilt')['SalePrice'].count()\n",
        "age_grouped_data"
      ],
      "metadata": {
        "colab": {
          "base_uri": "https://localhost:8080/"
        },
        "id": "cWZEa-mPvm7f",
        "outputId": "16b10e6b-61ab-401f-cb56-4c20848f5622"
      },
      "execution_count": 26,
      "outputs": [
        {
          "output_type": "execute_result",
          "data": {
            "text/plain": [
              "YearBuilt\n",
              "1799.0      1\n",
              "1832.0      1\n",
              "1870.0      2\n",
              "1880.0      1\n",
              "1890.0      1\n",
              "         ... \n",
              "2013.0    293\n",
              "2014.0    505\n",
              "2015.0    678\n",
              "2016.0    577\n",
              "2017.0     13\n",
              "Name: SalePrice, Length: 127, dtype: int64"
            ]
          },
          "metadata": {},
          "execution_count": 26
        }
      ]
    },
    {
      "cell_type": "code",
      "source": [
        "sns.lineplot(x=age_grouped_data.index, y=age_grouped_data.values)"
      ],
      "metadata": {
        "colab": {
          "base_uri": "https://localhost:8080/",
          "height": 302
        },
        "id": "lkiN_1yjvuWY",
        "outputId": "f5c35281-ad3b-4194-aaed-9047adac2fe9"
      },
      "execution_count": 27,
      "outputs": [
        {
          "output_type": "execute_result",
          "data": {
            "text/plain": [
              "<matplotlib.axes._subplots.AxesSubplot at 0x7f5c1658e410>"
            ]
          },
          "metadata": {},
          "execution_count": 27
        },
        {
          "output_type": "display_data",
          "data": {
            "text/plain": [
              "<Figure size 432x288 with 1 Axes>"
            ],
            "image/png": "[encoded data removed]"
          },
          "metadata": {
            "needs_background": "light"
          }
        }
      ]
    },
    {
      "cell_type": "code",
      "source": [
        "sns.lineplot(y=age_grouped_data.index, x=age_grouped_data.values)"
      ],
      "metadata": {
        "colab": {
          "base_uri": "https://localhost:8080/",
          "height": 285
        },
        "id": "f8iKY8KVv5af",
        "outputId": "f5378ee1-de15-470d-b016-97b63c6da0db"
      },
      "execution_count": 28,
      "outputs": [
        {
          "output_type": "execute_result",
          "data": {
            "text/plain": [
              "<matplotlib.axes._subplots.AxesSubplot at 0x7f5c1650ac90>"
            ]
          },
          "metadata": {},
          "execution_count": 28
        },
        {
          "output_type": "display_data",
          "data": {
            "text/plain": [
              "<Figure size 432x288 with 1 Axes>"
            ],
            "image/png": "[encoded data removed]"
          },
          "metadata": {
            "needs_background": "light"
          }
        }
      ]
    },
    {
      "cell_type": "markdown",
      "source": [
        "From the above charts it definitely seems that the houses built during between 1940 and 1960 have peaked a lot. The peak is very high compared to other years, but there isn't any continuing trend to showcase that age has always affected the strength."
      ],
      "metadata": {
        "id": "8FdJYRHPwFEp"
      }
    },
    {
      "cell_type": "markdown",
      "source": [
        "6. Have the number of rooms in the house affected the price?"
      ],
      "metadata": {
        "id": "-NHRtwL0wWXI"
      }
    },
    {
      "cell_type": "code",
      "source": [
        "data['TotalRooms'] = data['Bedrooms'] + data['FullBathroom'] + data['HalfBathroom']\n",
        "data['TotalRooms']"
      ],
      "metadata": {
        "colab": {
          "base_uri": "https://localhost:8080/"
        },
        "id": "2B0M7z_XwY38",
        "outputId": "ec991013-c445-444e-8414-bb99c14fb1e8"
      },
      "execution_count": 29,
      "outputs": [
        {
          "output_type": "execute_result",
          "data": {
            "text/plain": [
              "UniqueID \n",
              "2045     6.000000\n",
              "16918    8.000000\n",
              "54582    7.000000\n",
              "43070    6.000000\n",
              "22714    7.000000\n",
              "           ...   \n",
              "18197    5.216154\n",
              "16722    5.216154\n",
              "14303    5.000000\n",
              "40443    6.000000\n",
              "52966    5.216154\n",
              "Name: TotalRooms, Length: 41914, dtype: float64"
            ]
          },
          "metadata": {},
          "execution_count": 29
        }
      ]
    },
    {
      "cell_type": "code",
      "source": [
        "rooms_grouped_data = data.groupby('TotalRooms')['SalePrice'].count()\n",
        "rooms_grouped_data"
      ],
      "metadata": {
        "colab": {
          "base_uri": "https://localhost:8080/"
        },
        "id": "f1Q5M9gWwjk0",
        "outputId": "97cac8e9-0f81-48d3-a1c4-bfd8c2fe7617"
      },
      "execution_count": 30,
      "outputs": [
        {
          "output_type": "execute_result",
          "data": {
            "text/plain": [
              "TotalRooms\n",
              "0.000000        30\n",
              "1.000000         2\n",
              "2.000000        95\n",
              "3.000000      3230\n",
              "3.076771        91\n",
              "3.273795         1\n",
              "4.000000      3701\n",
              "4.273795         7\n",
              "5.000000      5678\n",
              "5.139383         1\n",
              "5.216154     21528\n",
              "5.273795        46\n",
              "6.000000      3841\n",
              "6.273795        54\n",
              "7.000000      1645\n",
              "7.273795        17\n",
              "8.000000       945\n",
              "8.076771         1\n",
              "8.273795         4\n",
              "9.000000       448\n",
              "10.000000      246\n",
              "11.000000      168\n",
              "12.000000       73\n",
              "13.000000       39\n",
              "14.000000       14\n",
              "15.000000        3\n",
              "16.000000        2\n",
              "17.000000        1\n",
              "20.000000        2\n",
              "22.000000        1\n",
              "Name: SalePrice, dtype: int64"
            ]
          },
          "metadata": {},
          "execution_count": 30
        }
      ]
    },
    {
      "cell_type": "code",
      "source": [
        "sns.barplot(x = rooms_grouped_data.index, y = rooms_grouped_data.values)"
      ],
      "metadata": {
        "colab": {
          "base_uri": "https://localhost:8080/",
          "height": 302
        },
        "id": "M_k_EmPxwwF7",
        "outputId": "c69fda4d-b589-48c2-e385-4400500120a3"
      },
      "execution_count": 31,
      "outputs": [
        {
          "output_type": "execute_result",
          "data": {
            "text/plain": [
              "<matplotlib.axes._subplots.AxesSubplot at 0x7f5c164898d0>"
            ]
          },
          "metadata": {},
          "execution_count": 31
        },
        {
          "output_type": "display_data",
          "data": {
            "text/plain": [
              "<Figure size 432x288 with 1 Axes>"
            ],
            "image/png": "[encoded data removed]"
          },
          "metadata": {
            "needs_background": "light"
          }
        }
      ]
    },
    {
      "cell_type": "code",
      "source": [
        "sns.scatterplot(x=rooms_grouped_data.index, y=rooms_grouped_data.values)"
      ],
      "metadata": {
        "colab": {
          "base_uri": "https://localhost:8080/",
          "height": 302
        },
        "id": "h4Dy4h4gwzwt",
        "outputId": "93c9dedc-3b95-45b9-e76c-ec4641f03f03"
      },
      "execution_count": 32,
      "outputs": [
        {
          "output_type": "execute_result",
          "data": {
            "text/plain": [
              "<matplotlib.axes._subplots.AxesSubplot at 0x7f5c162e3450>"
            ]
          },
          "metadata": {},
          "execution_count": 32
        },
        {
          "output_type": "display_data",
          "data": {
            "text/plain": [
              "<Figure size 432x288 with 1 Axes>"
            ],
            "image/png": "[encoded data removed]"
          },
          "metadata": {
            "needs_background": "light"
          }
        }
      ]
    },
    {
      "cell_type": "code",
      "source": [
        "math.trunc(data['TotalRooms'].mean())"
      ],
      "metadata": {
        "colab": {
          "base_uri": "https://localhost:8080/"
        },
        "id": "AIu_iwZJw6DA",
        "outputId": "2f4c9663-243d-4dbf-f134-e5f60086bb05"
      },
      "execution_count": 33,
      "outputs": [
        {
          "output_type": "execute_result",
          "data": {
            "text/plain": [
              "5"
            ]
          },
          "metadata": {},
          "execution_count": 33
        }
      ]
    },
    {
      "cell_type": "markdown",
      "source": [
        "Here, we make an interesting obervation that the sale prices of houses with 5 rooms is the maximum by a large extent. And, in fact, the the number of houses around 5 also show a considerably high sales price. Since, the mean of all of the number of houses is also 5, it's interesting to note that sales prices tend to be high with an average number of rooms in a house."
      ],
      "metadata": {
        "id": "n5urtYGjxI15"
      }
    },
    {
      "cell_type": "markdown",
      "source": [
        "7. Does the size of the property (no. of acres) have any influence in its price?"
      ],
      "metadata": {
        "id": "YRRvlwofxOJw"
      }
    },
    {
      "cell_type": "code",
      "source": [
        "property_grouped_data=data.groupby('Acre')['SalePrice'].count()\n",
        "property_grouped_data"
      ],
      "metadata": {
        "colab": {
          "base_uri": "https://localhost:8080/"
        },
        "id": "1X9k67CRxU7x",
        "outputId": "129511e5-a9eb-4246-ab4d-5e4c51361815"
      },
      "execution_count": 34,
      "outputs": [
        {
          "output_type": "execute_result",
          "data": {
            "text/plain": [
              "Acre\n",
              "0.01      3\n",
              "0.02      6\n",
              "0.03      5\n",
              "0.04     12\n",
              "0.05     19\n",
              "         ..\n",
              "35.97     1\n",
              "41.24     1\n",
              "47.50     1\n",
              "51.34     1\n",
              "68.79     1\n",
              "Name: SalePrice, Length: 441, dtype: int64"
            ]
          },
          "metadata": {},
          "execution_count": 34
        }
      ]
    },
    {
      "cell_type": "code",
      "source": [
        "plot = sns.lineplot(x=property_grouped_data.index, y=property_grouped_data.values)"
      ],
      "metadata": {
        "colab": {
          "base_uri": "https://localhost:8080/",
          "height": 285
        },
        "id": "qPfl6FxFxhTj",
        "outputId": "f60ae70d-e24c-49d5-c723-c0544e560dd8"
      },
      "execution_count": 35,
      "outputs": [
        {
          "output_type": "display_data",
          "data": {
            "text/plain": [
              "<Figure size 432x288 with 1 Axes>"
            ],
            "image/png": "[encoded data removed]"
          },
          "metadata": {
            "needs_background": "light"
          }
        }
      ]
    },
    {
      "cell_type": "code",
      "source": [
        "plot = sns.lineplot(x=property_grouped_data.index, y=property_grouped_data.values)\n",
        "plot.set(xlim=(0,12))"
      ],
      "metadata": {
        "colab": {
          "base_uri": "https://localhost:8080/",
          "height": 302
        },
        "id": "aZrZ2cnqxvMN",
        "outputId": "07d5f96c-db15-47b9-c2ae-2d12f10263c2"
      },
      "execution_count": 36,
      "outputs": [
        {
          "output_type": "execute_result",
          "data": {
            "text/plain": [
              "[(0.0, 12.0)]"
            ]
          },
          "metadata": {},
          "execution_count": 36
        },
        {
          "output_type": "display_data",
          "data": {
            "text/plain": [
              "<Figure size 432x288 with 1 Axes>"
            ],
            "image/png": "[encoded data removed]"
          },
          "metadata": {
            "needs_background": "light"
          }
        }
      ]
    },
    {
      "cell_type": "code",
      "source": [
        "plot = sns.lineplot(x=property_grouped_data.index, y=property_grouped_data.values)\n",
        "plot.set(xlim=(0,1))"
      ],
      "metadata": {
        "colab": {
          "base_uri": "https://localhost:8080/",
          "height": 302
        },
        "id": "eKeXGNxQx5tz",
        "outputId": "e0570678-cfef-465e-ad5c-db8391fc7c0f"
      },
      "execution_count": 37,
      "outputs": [
        {
          "output_type": "execute_result",
          "data": {
            "text/plain": [
              "[(0.0, 1.0)]"
            ]
          },
          "metadata": {},
          "execution_count": 37
        },
        {
          "output_type": "display_data",
          "data": {
            "text/plain": [
              "<Figure size 432x288 with 1 Axes>"
            ],
            "image/png": "[encoded data removed]"
          },
          "metadata": {
            "needs_background": "light"
          }
        }
      ]
    },
    {
      "cell_type": "code",
      "source": [
        "round(data['Acre'].mean(), 2)"
      ],
      "metadata": {
        "colab": {
          "base_uri": "https://localhost:8080/"
        },
        "id": "-QMKc4EpyFjX",
        "outputId": "f12df841-049d-4121-8ddd-22f493861373"
      },
      "execution_count": 38,
      "outputs": [
        {
          "output_type": "execute_result",
          "data": {
            "text/plain": [
              "0.45"
            ]
          },
          "metadata": {},
          "execution_count": 38
        }
      ]
    },
    {
      "cell_type": "markdown",
      "source": [
        "Though there isn't any repeating trend, it is evident from the above line chart that the sale price is at its highest when the size of the property is near or equal to the mean size, that is 0.5"
      ],
      "metadata": {
        "id": "oWDyWfULyVpa"
      }
    },
    {
      "cell_type": "markdown",
      "source": [
        "8. Are houses located in specific pin numbers expensive over the others?"
      ],
      "metadata": {
        "id": "DWYYelpkybAV"
      }
    },
    {
      "cell_type": "code",
      "source": [
        "pin_grouped_data = data.groupby('Pin')['SalePrice'].count()\n",
        "pin_grouped_data"
      ],
      "metadata": {
        "colab": {
          "base_uri": "https://localhost:8080/"
        },
        "id": "3XwoGL5-yd1y",
        "outputId": "5ffef597-85cf-4215-f9d9-0beef2c1e735"
      },
      "execution_count": 39,
      "outputs": [
        {
          "output_type": "execute_result",
          "data": {
            "text/plain": [
              "Pin\n",
              "  12    1\n",
              "  AC    1\n",
              "  HA    1\n",
              "  LO    2\n",
              "  MA    1\n",
              "       ..\n",
              "STOK    1\n",
              "STRA    1\n",
              "SUNN    1\n",
              "WASH    2\n",
              "WEST    1\n",
              "Name: SalePrice, Length: 5145, dtype: int64"
            ]
          },
          "metadata": {},
          "execution_count": 39
        }
      ]
    },
    {
      "cell_type": "markdown",
      "source": [
        "9. How have house prices changed in the 21st century as supposed to 20th century."
      ],
      "metadata": {
        "id": "RpnJwR7Yypea"
      }
    },
    {
      "cell_type": "code",
      "source": [
        "for i in range(0,len(data)):\n",
        "  if data['YearBuilt'][i]>=2000:\n",
        "    data['20th_Century'][i] = data['YearBuilt'][i]\n",
        "data['20th_Century']"
      ],
      "metadata": {
        "colab": {
          "base_uri": "https://localhost:8080/",
          "height": 501
        },
        "id": "4YlnOEBQyqjs",
        "outputId": "6147abd3-d6e5-4607-844e-5915348a6e89"
      },
      "execution_count": 45,
      "outputs": [
        {
          "output_type": "error",
          "ename": "KeyError",
          "evalue": "ignored",
          "traceback": [
            "\u001b[0;31m---------------------------------------------------------------------------\u001b[0m",
            "\u001b[0;31mKeyError\u001b[0m                                  Traceback (most recent call last)",
            "\u001b[0;32m/usr/local/lib/python3.7/dist-packages/pandas/core/indexes/base.py\u001b[0m in \u001b[0;36mget_loc\u001b[0;34m(self, key, method, tolerance)\u001b[0m\n\u001b[1;32m   3360\u001b[0m             \u001b[0;32mtry\u001b[0m\u001b[0;34m:\u001b[0m\u001b[0;34m\u001b[0m\u001b[0;34m\u001b[0m\u001b[0m\n\u001b[0;32m-> 3361\u001b[0;31m                 \u001b[0;32mreturn\u001b[0m \u001b[0mself\u001b[0m\u001b[0;34m.\u001b[0m\u001b[0m_engine\u001b[0m\u001b[0;34m.\u001b[0m\u001b[0mget_loc\u001b[0m\u001b[0;34m(\u001b[0m\u001b[0mcasted_key\u001b[0m\u001b[0;34m)\u001b[0m\u001b[0;34m\u001b[0m\u001b[0;34m\u001b[0m\u001b[0m\n\u001b[0m\u001b[1;32m   3362\u001b[0m             \u001b[0;32mexcept\u001b[0m \u001b[0mKeyError\u001b[0m \u001b[0;32mas\u001b[0m \u001b[0merr\u001b[0m\u001b[0;34m:\u001b[0m\u001b[0;34m\u001b[0m\u001b[0;34m\u001b[0m\u001b[0m\n",
            "\u001b[0;32m/usr/local/lib/python3.7/dist-packages/pandas/_libs/index.pyx\u001b[0m in \u001b[0;36mpandas._libs.index.IndexEngine.get_loc\u001b[0;34m()\u001b[0m\n",
            "\u001b[0;32m/usr/local/lib/python3.7/dist-packages/pandas/_libs/index.pyx\u001b[0m in \u001b[0;36mpandas._libs.index.IndexEngine.get_loc\u001b[0;34m()\u001b[0m\n",
            "\u001b[0;32mpandas/_libs/hashtable_class_helper.pxi\u001b[0m in \u001b[0;36mpandas._libs.hashtable.PyObjectHashTable.get_item\u001b[0;34m()\u001b[0m\n",
            "\u001b[0;32mpandas/_libs/hashtable_class_helper.pxi\u001b[0m in \u001b[0;36mpandas._libs.hashtable.PyObjectHashTable.get_item\u001b[0;34m()\u001b[0m\n",
            "\u001b[0;31mKeyError\u001b[0m: '20th_Century'",
            "\nThe above exception was the direct cause of the following exception:\n",
            "\u001b[0;31mKeyError\u001b[0m                                  Traceback (most recent call last)",
            "\u001b[0;32m<ipython-input-45-621ddbff6f2f>\u001b[0m in \u001b[0;36m<module>\u001b[0;34m()\u001b[0m\n\u001b[1;32m      1\u001b[0m \u001b[0;32mfor\u001b[0m \u001b[0mi\u001b[0m \u001b[0;32min\u001b[0m \u001b[0mrange\u001b[0m\u001b[0;34m(\u001b[0m\u001b[0;36m0\u001b[0m\u001b[0;34m,\u001b[0m\u001b[0mlen\u001b[0m\u001b[0;34m(\u001b[0m\u001b[0mdata\u001b[0m\u001b[0;34m)\u001b[0m\u001b[0;34m)\u001b[0m\u001b[0;34m:\u001b[0m\u001b[0;34m\u001b[0m\u001b[0;34m\u001b[0m\u001b[0m\n\u001b[1;32m      2\u001b[0m   \u001b[0;32mif\u001b[0m \u001b[0mdata\u001b[0m\u001b[0;34m[\u001b[0m\u001b[0;34m'YearBuilt'\u001b[0m\u001b[0;34m]\u001b[0m\u001b[0;34m[\u001b[0m\u001b[0mi\u001b[0m\u001b[0;34m]\u001b[0m\u001b[0;34m>=\u001b[0m\u001b[0;36m2000\u001b[0m\u001b[0;34m:\u001b[0m\u001b[0;34m\u001b[0m\u001b[0;34m\u001b[0m\u001b[0m\n\u001b[0;32m----> 3\u001b[0;31m     \u001b[0mdata\u001b[0m\u001b[0;34m[\u001b[0m\u001b[0;34m'20th_Century'\u001b[0m\u001b[0;34m]\u001b[0m\u001b[0;34m[\u001b[0m\u001b[0mi\u001b[0m\u001b[0;34m]\u001b[0m \u001b[0;34m=\u001b[0m \u001b[0mdata\u001b[0m\u001b[0;34m[\u001b[0m\u001b[0;34m'YearBuilt'\u001b[0m\u001b[0;34m]\u001b[0m\u001b[0;34m[\u001b[0m\u001b[0mi\u001b[0m\u001b[0;34m]\u001b[0m\u001b[0;34m\u001b[0m\u001b[0;34m\u001b[0m\u001b[0m\n\u001b[0m\u001b[1;32m      4\u001b[0m \u001b[0mdata\u001b[0m\u001b[0;34m[\u001b[0m\u001b[0;34m'20th_Century'\u001b[0m\u001b[0;34m]\u001b[0m\u001b[0;34m\u001b[0m\u001b[0;34m\u001b[0m\u001b[0m\n",
            "\u001b[0;32m/usr/local/lib/python3.7/dist-packages/pandas/core/frame.py\u001b[0m in \u001b[0;36m__getitem__\u001b[0;34m(self, key)\u001b[0m\n\u001b[1;32m   3456\u001b[0m             \u001b[0;32mif\u001b[0m \u001b[0mself\u001b[0m\u001b[0;34m.\u001b[0m\u001b[0mcolumns\u001b[0m\u001b[0;34m.\u001b[0m\u001b[0mnlevels\u001b[0m \u001b[0;34m>\u001b[0m \u001b[0;36m1\u001b[0m\u001b[0;34m:\u001b[0m\u001b[0;34m\u001b[0m\u001b[0;34m\u001b[0m\u001b[0m\n\u001b[1;32m   3457\u001b[0m                 \u001b[0;32mreturn\u001b[0m \u001b[0mself\u001b[0m\u001b[0;34m.\u001b[0m\u001b[0m_getitem_multilevel\u001b[0m\u001b[0;34m(\u001b[0m\u001b[0mkey\u001b[0m\u001b[0;34m)\u001b[0m\u001b[0;34m\u001b[0m\u001b[0;34m\u001b[0m\u001b[0m\n\u001b[0;32m-> 3458\u001b[0;31m             \u001b[0mindexer\u001b[0m \u001b[0;34m=\u001b[0m \u001b[0mself\u001b[0m\u001b[0;34m.\u001b[0m\u001b[0mcolumns\u001b[0m\u001b[0;34m.\u001b[0m\u001b[0mget_loc\u001b[0m\u001b[0;34m(\u001b[0m\u001b[0mkey\u001b[0m\u001b[0;34m)\u001b[0m\u001b[0;34m\u001b[0m\u001b[0;34m\u001b[0m\u001b[0m\n\u001b[0m\u001b[1;32m   3459\u001b[0m             \u001b[0;32mif\u001b[0m \u001b[0mis_integer\u001b[0m\u001b[0;34m(\u001b[0m\u001b[0mindexer\u001b[0m\u001b[0;34m)\u001b[0m\u001b[0;34m:\u001b[0m\u001b[0;34m\u001b[0m\u001b[0;34m\u001b[0m\u001b[0m\n\u001b[1;32m   3460\u001b[0m                 \u001b[0mindexer\u001b[0m \u001b[0;34m=\u001b[0m \u001b[0;34m[\u001b[0m\u001b[0mindexer\u001b[0m\u001b[0;34m]\u001b[0m\u001b[0;34m\u001b[0m\u001b[0;34m\u001b[0m\u001b[0m\n",
            "\u001b[0;32m/usr/local/lib/python3.7/dist-packages/pandas/core/indexes/base.py\u001b[0m in \u001b[0;36mget_loc\u001b[0;34m(self, key, method, tolerance)\u001b[0m\n\u001b[1;32m   3361\u001b[0m                 \u001b[0;32mreturn\u001b[0m \u001b[0mself\u001b[0m\u001b[0;34m.\u001b[0m\u001b[0m_engine\u001b[0m\u001b[0;34m.\u001b[0m\u001b[0mget_loc\u001b[0m\u001b[0;34m(\u001b[0m\u001b[0mcasted_key\u001b[0m\u001b[0;34m)\u001b[0m\u001b[0;34m\u001b[0m\u001b[0;34m\u001b[0m\u001b[0m\n\u001b[1;32m   3362\u001b[0m             \u001b[0;32mexcept\u001b[0m \u001b[0mKeyError\u001b[0m \u001b[0;32mas\u001b[0m \u001b[0merr\u001b[0m\u001b[0;34m:\u001b[0m\u001b[0;34m\u001b[0m\u001b[0;34m\u001b[0m\u001b[0m\n\u001b[0;32m-> 3363\u001b[0;31m                 \u001b[0;32mraise\u001b[0m \u001b[0mKeyError\u001b[0m\u001b[0;34m(\u001b[0m\u001b[0mkey\u001b[0m\u001b[0;34m)\u001b[0m \u001b[0;32mfrom\u001b[0m \u001b[0merr\u001b[0m\u001b[0;34m\u001b[0m\u001b[0;34m\u001b[0m\u001b[0m\n\u001b[0m\u001b[1;32m   3364\u001b[0m \u001b[0;34m\u001b[0m\u001b[0m\n\u001b[1;32m   3365\u001b[0m         \u001b[0;32mif\u001b[0m \u001b[0mis_scalar\u001b[0m\u001b[0;34m(\u001b[0m\u001b[0mkey\u001b[0m\u001b[0;34m)\u001b[0m \u001b[0;32mand\u001b[0m \u001b[0misna\u001b[0m\u001b[0;34m(\u001b[0m\u001b[0mkey\u001b[0m\u001b[0;34m)\u001b[0m \u001b[0;32mand\u001b[0m \u001b[0;32mnot\u001b[0m \u001b[0mself\u001b[0m\u001b[0;34m.\u001b[0m\u001b[0mhasnans\u001b[0m\u001b[0;34m:\u001b[0m\u001b[0;34m\u001b[0m\u001b[0;34m\u001b[0m\u001b[0m\n",
            "\u001b[0;31mKeyError\u001b[0m: '20th_Century'"
          ]
        }
      ]
    }
  ]
}